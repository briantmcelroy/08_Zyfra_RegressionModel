{
 "cells": [
  {
   "cell_type": "markdown",
   "metadata": {},
   "source": [
    "# Introduction\n",
    "\n",
    "In our analysis below we will read three dataframes regarding tens of thousands of sample points in a gold recovery process, representing nearly 80 measurements at various stages in the filtration.\n",
    "\n",
    "After cleaning the data, we will explore how metal concentrations change depending on the purification stage. We must validate the feed particle size distributions between our training and test sets, as those reflect important chemical markers of overall material being worked with. Then we will also validate that the total substance concentration in each entry contains no statistical anomalies.\n",
    "\n",
    "Finally, we will train some linear regression models to predict two metrics that are key in the success of the process: rougher recovery (a measure of gold recovery early in the process) and final recovery (the same measure at the end of the process). Our final evaluation will use the test set to evaluate how well these models predict these two metrics given novel data they were not trained on.\n",
    "\n",
    "## Prepare the Data\n",
    "\n",
    "### Initialize Libraries and First Looks at Dataframe"
   ]
  },
  {
   "cell_type": "code",
   "execution_count": 1,
   "metadata": {},
   "outputs": [],
   "source": [
    "# Statistical libraries\n",
    "import pandas as pd\n",
    "from scipy import stats as st\n",
    "import math\n",
    "import numpy as np\n",
    "from sklearn.metrics import *\n",
    "from sklearn.utils import shuffle\n",
    "\n",
    "# Machine Learning libraries\n",
    "from sklearn.linear_model import LinearRegression\n",
    "from sklearn.model_selection import train_test_split\n",
    "\n",
    "# Graphing libraries\n",
    "import plotly.express as px\n",
    "from matplotlib import pyplot as plt"
   ]
  },
  {
   "cell_type": "code",
   "execution_count": 2,
   "metadata": {
    "scrolled": true
   },
   "outputs": [
    {
     "name": "stdout",
     "output_type": "stream",
     "text": [
      "<class 'pandas.core.frame.DataFrame'>\n",
      "RangeIndex: 16860 entries, 0 to 16859\n",
      "Data columns (total 87 columns):\n",
      " #   Column                                              Non-Null Count  Dtype  \n",
      "---  ------                                              --------------  -----  \n",
      " 0   date                                                16860 non-null  object \n",
      " 1   final.output.concentrate_ag                         16788 non-null  float64\n",
      " 2   final.output.concentrate_pb                         16788 non-null  float64\n",
      " 3   final.output.concentrate_sol                        16490 non-null  float64\n",
      " 4   final.output.concentrate_au                         16789 non-null  float64\n",
      " 5   final.output.recovery                               15339 non-null  float64\n",
      " 6   final.output.tail_ag                                16794 non-null  float64\n",
      " 7   final.output.tail_pb                                16677 non-null  float64\n",
      " 8   final.output.tail_sol                               16715 non-null  float64\n",
      " 9   final.output.tail_au                                16794 non-null  float64\n",
      " 10  primary_cleaner.input.sulfate                       15553 non-null  float64\n",
      " 11  primary_cleaner.input.depressant                    15598 non-null  float64\n",
      " 12  primary_cleaner.input.feed_size                     16860 non-null  float64\n",
      " 13  primary_cleaner.input.xanthate                      15875 non-null  float64\n",
      " 14  primary_cleaner.output.concentrate_ag               16778 non-null  float64\n",
      " 15  primary_cleaner.output.concentrate_pb               16502 non-null  float64\n",
      " 16  primary_cleaner.output.concentrate_sol              16224 non-null  float64\n",
      " 17  primary_cleaner.output.concentrate_au               16778 non-null  float64\n",
      " 18  primary_cleaner.output.tail_ag                      16777 non-null  float64\n",
      " 19  primary_cleaner.output.tail_pb                      16761 non-null  float64\n",
      " 20  primary_cleaner.output.tail_sol                     16579 non-null  float64\n",
      " 21  primary_cleaner.output.tail_au                      16777 non-null  float64\n",
      " 22  primary_cleaner.state.floatbank8_a_air              16820 non-null  float64\n",
      " 23  primary_cleaner.state.floatbank8_a_level            16827 non-null  float64\n",
      " 24  primary_cleaner.state.floatbank8_b_air              16820 non-null  float64\n",
      " 25  primary_cleaner.state.floatbank8_b_level            16833 non-null  float64\n",
      " 26  primary_cleaner.state.floatbank8_c_air              16822 non-null  float64\n",
      " 27  primary_cleaner.state.floatbank8_c_level            16833 non-null  float64\n",
      " 28  primary_cleaner.state.floatbank8_d_air              16821 non-null  float64\n",
      " 29  primary_cleaner.state.floatbank8_d_level            16833 non-null  float64\n",
      " 30  rougher.calculation.sulfate_to_au_concentrate       16833 non-null  float64\n",
      " 31  rougher.calculation.floatbank10_sulfate_to_au_feed  16833 non-null  float64\n",
      " 32  rougher.calculation.floatbank11_sulfate_to_au_feed  16833 non-null  float64\n",
      " 33  rougher.calculation.au_pb_ratio                     15618 non-null  float64\n",
      " 34  rougher.input.feed_ag                               16778 non-null  float64\n",
      " 35  rougher.input.feed_pb                               16632 non-null  float64\n",
      " 36  rougher.input.feed_rate                             16347 non-null  float64\n",
      " 37  rougher.input.feed_size                             16443 non-null  float64\n",
      " 38  rougher.input.feed_sol                              16568 non-null  float64\n",
      " 39  rougher.input.feed_au                               16777 non-null  float64\n",
      " 40  rougher.input.floatbank10_sulfate                   15816 non-null  float64\n",
      " 41  rougher.input.floatbank10_xanthate                  16514 non-null  float64\n",
      " 42  rougher.input.floatbank11_sulfate                   16237 non-null  float64\n",
      " 43  rougher.input.floatbank11_xanthate                  14956 non-null  float64\n",
      " 44  rougher.output.concentrate_ag                       16778 non-null  float64\n",
      " 45  rougher.output.concentrate_pb                       16778 non-null  float64\n",
      " 46  rougher.output.concentrate_sol                      16698 non-null  float64\n",
      " 47  rougher.output.concentrate_au                       16778 non-null  float64\n",
      " 48  rougher.output.recovery                             14287 non-null  float64\n",
      " 49  rougher.output.tail_ag                              14610 non-null  float64\n",
      " 50  rougher.output.tail_pb                              16778 non-null  float64\n",
      " 51  rougher.output.tail_sol                             14611 non-null  float64\n",
      " 52  rougher.output.tail_au                              14611 non-null  float64\n",
      " 53  rougher.state.floatbank10_a_air                     16807 non-null  float64\n",
      " 54  rougher.state.floatbank10_a_level                   16807 non-null  float64\n",
      " 55  rougher.state.floatbank10_b_air                     16807 non-null  float64\n",
      " 56  rougher.state.floatbank10_b_level                   16807 non-null  float64\n",
      " 57  rougher.state.floatbank10_c_air                     16807 non-null  float64\n",
      " 58  rougher.state.floatbank10_c_level                   16814 non-null  float64\n",
      " 59  rougher.state.floatbank10_d_air                     16802 non-null  float64\n",
      " 60  rougher.state.floatbank10_d_level                   16809 non-null  float64\n",
      " 61  rougher.state.floatbank10_e_air                     16257 non-null  float64\n",
      " 62  rougher.state.floatbank10_e_level                   16809 non-null  float64\n",
      " 63  rougher.state.floatbank10_f_air                     16802 non-null  float64\n",
      " 64  rougher.state.floatbank10_f_level                   16802 non-null  float64\n",
      " 65  secondary_cleaner.output.tail_ag                    16776 non-null  float64\n",
      " 66  secondary_cleaner.output.tail_pb                    16764 non-null  float64\n",
      " 67  secondary_cleaner.output.tail_sol                   14874 non-null  float64\n",
      " 68  secondary_cleaner.output.tail_au                    16778 non-null  float64\n",
      " 69  secondary_cleaner.state.floatbank2_a_air            16497 non-null  float64\n",
      " 70  secondary_cleaner.state.floatbank2_a_level          16751 non-null  float64\n",
      " 71  secondary_cleaner.state.floatbank2_b_air            16705 non-null  float64\n",
      " 72  secondary_cleaner.state.floatbank2_b_level          16748 non-null  float64\n",
      " 73  secondary_cleaner.state.floatbank3_a_air            16763 non-null  float64\n",
      " 74  secondary_cleaner.state.floatbank3_a_level          16747 non-null  float64\n",
      " 75  secondary_cleaner.state.floatbank3_b_air            16752 non-null  float64\n",
      " 76  secondary_cleaner.state.floatbank3_b_level          16750 non-null  float64\n",
      " 77  secondary_cleaner.state.floatbank4_a_air            16731 non-null  float64\n",
      " 78  secondary_cleaner.state.floatbank4_a_level          16747 non-null  float64\n",
      " 79  secondary_cleaner.state.floatbank4_b_air            16768 non-null  float64\n",
      " 80  secondary_cleaner.state.floatbank4_b_level          16767 non-null  float64\n",
      " 81  secondary_cleaner.state.floatbank5_a_air            16775 non-null  float64\n",
      " 82  secondary_cleaner.state.floatbank5_a_level          16775 non-null  float64\n",
      " 83  secondary_cleaner.state.floatbank5_b_air            16775 non-null  float64\n",
      " 84  secondary_cleaner.state.floatbank5_b_level          16776 non-null  float64\n",
      " 85  secondary_cleaner.state.floatbank6_a_air            16757 non-null  float64\n",
      " 86  secondary_cleaner.state.floatbank6_a_level          16775 non-null  float64\n",
      "dtypes: float64(86), object(1)\n",
      "memory usage: 11.2+ MB\n"
     ]
    },
    {
     "data": {
      "text/html": [
       "<div>\n",
       "<style scoped>\n",
       "    .dataframe tbody tr th:only-of-type {\n",
       "        vertical-align: middle;\n",
       "    }\n",
       "\n",
       "    .dataframe tbody tr th {\n",
       "        vertical-align: top;\n",
       "    }\n",
       "\n",
       "    .dataframe thead th {\n",
       "        text-align: right;\n",
       "    }\n",
       "</style>\n",
       "<table border=\"1\" class=\"dataframe\">\n",
       "  <thead>\n",
       "    <tr style=\"text-align: right;\">\n",
       "      <th></th>\n",
       "      <th>date</th>\n",
       "      <th>final.output.concentrate_ag</th>\n",
       "      <th>final.output.concentrate_pb</th>\n",
       "      <th>final.output.concentrate_sol</th>\n",
       "      <th>final.output.concentrate_au</th>\n",
       "      <th>final.output.recovery</th>\n",
       "      <th>final.output.tail_ag</th>\n",
       "      <th>final.output.tail_pb</th>\n",
       "      <th>final.output.tail_sol</th>\n",
       "      <th>final.output.tail_au</th>\n",
       "      <th>...</th>\n",
       "      <th>secondary_cleaner.state.floatbank4_a_air</th>\n",
       "      <th>secondary_cleaner.state.floatbank4_a_level</th>\n",
       "      <th>secondary_cleaner.state.floatbank4_b_air</th>\n",
       "      <th>secondary_cleaner.state.floatbank4_b_level</th>\n",
       "      <th>secondary_cleaner.state.floatbank5_a_air</th>\n",
       "      <th>secondary_cleaner.state.floatbank5_a_level</th>\n",
       "      <th>secondary_cleaner.state.floatbank5_b_air</th>\n",
       "      <th>secondary_cleaner.state.floatbank5_b_level</th>\n",
       "      <th>secondary_cleaner.state.floatbank6_a_air</th>\n",
       "      <th>secondary_cleaner.state.floatbank6_a_level</th>\n",
       "    </tr>\n",
       "  </thead>\n",
       "  <tbody>\n",
       "    <tr>\n",
       "      <th>0</th>\n",
       "      <td>2016-01-15 00:00:00</td>\n",
       "      <td>6.055403</td>\n",
       "      <td>9.889648</td>\n",
       "      <td>5.507324</td>\n",
       "      <td>42.192020</td>\n",
       "      <td>70.541216</td>\n",
       "      <td>10.411962</td>\n",
       "      <td>0.895447</td>\n",
       "      <td>16.904297</td>\n",
       "      <td>2.143149</td>\n",
       "      <td>...</td>\n",
       "      <td>14.016835</td>\n",
       "      <td>-502.488007</td>\n",
       "      <td>12.099931</td>\n",
       "      <td>-504.715942</td>\n",
       "      <td>9.925633</td>\n",
       "      <td>-498.310211</td>\n",
       "      <td>8.079666</td>\n",
       "      <td>-500.470978</td>\n",
       "      <td>14.151341</td>\n",
       "      <td>-605.841980</td>\n",
       "    </tr>\n",
       "    <tr>\n",
       "      <th>1</th>\n",
       "      <td>2016-01-15 01:00:00</td>\n",
       "      <td>6.029369</td>\n",
       "      <td>9.968944</td>\n",
       "      <td>5.257781</td>\n",
       "      <td>42.701629</td>\n",
       "      <td>69.266198</td>\n",
       "      <td>10.462676</td>\n",
       "      <td>0.927452</td>\n",
       "      <td>16.634514</td>\n",
       "      <td>2.224930</td>\n",
       "      <td>...</td>\n",
       "      <td>13.992281</td>\n",
       "      <td>-505.503262</td>\n",
       "      <td>11.950531</td>\n",
       "      <td>-501.331529</td>\n",
       "      <td>10.039245</td>\n",
       "      <td>-500.169983</td>\n",
       "      <td>7.984757</td>\n",
       "      <td>-500.582168</td>\n",
       "      <td>13.998353</td>\n",
       "      <td>-599.787184</td>\n",
       "    </tr>\n",
       "    <tr>\n",
       "      <th>2</th>\n",
       "      <td>2016-01-15 02:00:00</td>\n",
       "      <td>6.055926</td>\n",
       "      <td>10.213995</td>\n",
       "      <td>5.383759</td>\n",
       "      <td>42.657501</td>\n",
       "      <td>68.116445</td>\n",
       "      <td>10.507046</td>\n",
       "      <td>0.953716</td>\n",
       "      <td>16.208849</td>\n",
       "      <td>2.257889</td>\n",
       "      <td>...</td>\n",
       "      <td>14.015015</td>\n",
       "      <td>-502.520901</td>\n",
       "      <td>11.912783</td>\n",
       "      <td>-501.133383</td>\n",
       "      <td>10.070913</td>\n",
       "      <td>-500.129135</td>\n",
       "      <td>8.013877</td>\n",
       "      <td>-500.517572</td>\n",
       "      <td>14.028663</td>\n",
       "      <td>-601.427363</td>\n",
       "    </tr>\n",
       "  </tbody>\n",
       "</table>\n",
       "<p>3 rows × 87 columns</p>\n",
       "</div>"
      ],
      "text/plain": [
       "                  date  final.output.concentrate_ag  \\\n",
       "0  2016-01-15 00:00:00                     6.055403   \n",
       "1  2016-01-15 01:00:00                     6.029369   \n",
       "2  2016-01-15 02:00:00                     6.055926   \n",
       "\n",
       "   final.output.concentrate_pb  final.output.concentrate_sol  \\\n",
       "0                     9.889648                      5.507324   \n",
       "1                     9.968944                      5.257781   \n",
       "2                    10.213995                      5.383759   \n",
       "\n",
       "   final.output.concentrate_au  final.output.recovery  final.output.tail_ag  \\\n",
       "0                    42.192020              70.541216             10.411962   \n",
       "1                    42.701629              69.266198             10.462676   \n",
       "2                    42.657501              68.116445             10.507046   \n",
       "\n",
       "   final.output.tail_pb  final.output.tail_sol  final.output.tail_au  ...  \\\n",
       "0              0.895447              16.904297              2.143149  ...   \n",
       "1              0.927452              16.634514              2.224930  ...   \n",
       "2              0.953716              16.208849              2.257889  ...   \n",
       "\n",
       "   secondary_cleaner.state.floatbank4_a_air  \\\n",
       "0                                 14.016835   \n",
       "1                                 13.992281   \n",
       "2                                 14.015015   \n",
       "\n",
       "   secondary_cleaner.state.floatbank4_a_level  \\\n",
       "0                                 -502.488007   \n",
       "1                                 -505.503262   \n",
       "2                                 -502.520901   \n",
       "\n",
       "   secondary_cleaner.state.floatbank4_b_air  \\\n",
       "0                                 12.099931   \n",
       "1                                 11.950531   \n",
       "2                                 11.912783   \n",
       "\n",
       "   secondary_cleaner.state.floatbank4_b_level  \\\n",
       "0                                 -504.715942   \n",
       "1                                 -501.331529   \n",
       "2                                 -501.133383   \n",
       "\n",
       "   secondary_cleaner.state.floatbank5_a_air  \\\n",
       "0                                  9.925633   \n",
       "1                                 10.039245   \n",
       "2                                 10.070913   \n",
       "\n",
       "   secondary_cleaner.state.floatbank5_a_level  \\\n",
       "0                                 -498.310211   \n",
       "1                                 -500.169983   \n",
       "2                                 -500.129135   \n",
       "\n",
       "   secondary_cleaner.state.floatbank5_b_air  \\\n",
       "0                                  8.079666   \n",
       "1                                  7.984757   \n",
       "2                                  8.013877   \n",
       "\n",
       "   secondary_cleaner.state.floatbank5_b_level  \\\n",
       "0                                 -500.470978   \n",
       "1                                 -500.582168   \n",
       "2                                 -500.517572   \n",
       "\n",
       "   secondary_cleaner.state.floatbank6_a_air  \\\n",
       "0                                 14.151341   \n",
       "1                                 13.998353   \n",
       "2                                 14.028663   \n",
       "\n",
       "   secondary_cleaner.state.floatbank6_a_level  \n",
       "0                                 -605.841980  \n",
       "1                                 -599.787184  \n",
       "2                                 -601.427363  \n",
       "\n",
       "[3 rows x 87 columns]"
      ]
     },
     "metadata": {},
     "output_type": "display_data"
    },
    {
     "name": "stdout",
     "output_type": "stream",
     "text": [
      "<class 'pandas.core.frame.DataFrame'>\n",
      "RangeIndex: 5856 entries, 0 to 5855\n",
      "Data columns (total 53 columns):\n",
      " #   Column                                      Non-Null Count  Dtype  \n",
      "---  ------                                      --------------  -----  \n",
      " 0   date                                        5856 non-null   object \n",
      " 1   primary_cleaner.input.sulfate               5554 non-null   float64\n",
      " 2   primary_cleaner.input.depressant            5572 non-null   float64\n",
      " 3   primary_cleaner.input.feed_size             5856 non-null   float64\n",
      " 4   primary_cleaner.input.xanthate              5690 non-null   float64\n",
      " 5   primary_cleaner.state.floatbank8_a_air      5840 non-null   float64\n",
      " 6   primary_cleaner.state.floatbank8_a_level    5840 non-null   float64\n",
      " 7   primary_cleaner.state.floatbank8_b_air      5840 non-null   float64\n",
      " 8   primary_cleaner.state.floatbank8_b_level    5840 non-null   float64\n",
      " 9   primary_cleaner.state.floatbank8_c_air      5840 non-null   float64\n",
      " 10  primary_cleaner.state.floatbank8_c_level    5840 non-null   float64\n",
      " 11  primary_cleaner.state.floatbank8_d_air      5840 non-null   float64\n",
      " 12  primary_cleaner.state.floatbank8_d_level    5840 non-null   float64\n",
      " 13  rougher.input.feed_ag                       5840 non-null   float64\n",
      " 14  rougher.input.feed_pb                       5840 non-null   float64\n",
      " 15  rougher.input.feed_rate                     5816 non-null   float64\n",
      " 16  rougher.input.feed_size                     5834 non-null   float64\n",
      " 17  rougher.input.feed_sol                      5789 non-null   float64\n",
      " 18  rougher.input.feed_au                       5840 non-null   float64\n",
      " 19  rougher.input.floatbank10_sulfate           5599 non-null   float64\n",
      " 20  rougher.input.floatbank10_xanthate          5733 non-null   float64\n",
      " 21  rougher.input.floatbank11_sulfate           5801 non-null   float64\n",
      " 22  rougher.input.floatbank11_xanthate          5503 non-null   float64\n",
      " 23  rougher.state.floatbank10_a_air             5839 non-null   float64\n",
      " 24  rougher.state.floatbank10_a_level           5840 non-null   float64\n",
      " 25  rougher.state.floatbank10_b_air             5839 non-null   float64\n",
      " 26  rougher.state.floatbank10_b_level           5840 non-null   float64\n",
      " 27  rougher.state.floatbank10_c_air             5839 non-null   float64\n",
      " 28  rougher.state.floatbank10_c_level           5840 non-null   float64\n",
      " 29  rougher.state.floatbank10_d_air             5839 non-null   float64\n",
      " 30  rougher.state.floatbank10_d_level           5840 non-null   float64\n",
      " 31  rougher.state.floatbank10_e_air             5839 non-null   float64\n",
      " 32  rougher.state.floatbank10_e_level           5840 non-null   float64\n",
      " 33  rougher.state.floatbank10_f_air             5839 non-null   float64\n",
      " 34  rougher.state.floatbank10_f_level           5840 non-null   float64\n",
      " 35  secondary_cleaner.state.floatbank2_a_air    5836 non-null   float64\n",
      " 36  secondary_cleaner.state.floatbank2_a_level  5840 non-null   float64\n",
      " 37  secondary_cleaner.state.floatbank2_b_air    5833 non-null   float64\n",
      " 38  secondary_cleaner.state.floatbank2_b_level  5840 non-null   float64\n",
      " 39  secondary_cleaner.state.floatbank3_a_air    5822 non-null   float64\n",
      " 40  secondary_cleaner.state.floatbank3_a_level  5840 non-null   float64\n",
      " 41  secondary_cleaner.state.floatbank3_b_air    5840 non-null   float64\n",
      " 42  secondary_cleaner.state.floatbank3_b_level  5840 non-null   float64\n",
      " 43  secondary_cleaner.state.floatbank4_a_air    5840 non-null   float64\n",
      " 44  secondary_cleaner.state.floatbank4_a_level  5840 non-null   float64\n",
      " 45  secondary_cleaner.state.floatbank4_b_air    5840 non-null   float64\n",
      " 46  secondary_cleaner.state.floatbank4_b_level  5840 non-null   float64\n",
      " 47  secondary_cleaner.state.floatbank5_a_air    5840 non-null   float64\n",
      " 48  secondary_cleaner.state.floatbank5_a_level  5840 non-null   float64\n",
      " 49  secondary_cleaner.state.floatbank5_b_air    5840 non-null   float64\n",
      " 50  secondary_cleaner.state.floatbank5_b_level  5840 non-null   float64\n",
      " 51  secondary_cleaner.state.floatbank6_a_air    5840 non-null   float64\n",
      " 52  secondary_cleaner.state.floatbank6_a_level  5840 non-null   float64\n",
      "dtypes: float64(52), object(1)\n",
      "memory usage: 2.4+ MB\n"
     ]
    },
    {
     "data": {
      "text/html": [
       "<div>\n",
       "<style scoped>\n",
       "    .dataframe tbody tr th:only-of-type {\n",
       "        vertical-align: middle;\n",
       "    }\n",
       "\n",
       "    .dataframe tbody tr th {\n",
       "        vertical-align: top;\n",
       "    }\n",
       "\n",
       "    .dataframe thead th {\n",
       "        text-align: right;\n",
       "    }\n",
       "</style>\n",
       "<table border=\"1\" class=\"dataframe\">\n",
       "  <thead>\n",
       "    <tr style=\"text-align: right;\">\n",
       "      <th></th>\n",
       "      <th>date</th>\n",
       "      <th>primary_cleaner.input.sulfate</th>\n",
       "      <th>primary_cleaner.input.depressant</th>\n",
       "      <th>primary_cleaner.input.feed_size</th>\n",
       "      <th>primary_cleaner.input.xanthate</th>\n",
       "      <th>primary_cleaner.state.floatbank8_a_air</th>\n",
       "      <th>primary_cleaner.state.floatbank8_a_level</th>\n",
       "      <th>primary_cleaner.state.floatbank8_b_air</th>\n",
       "      <th>primary_cleaner.state.floatbank8_b_level</th>\n",
       "      <th>primary_cleaner.state.floatbank8_c_air</th>\n",
       "      <th>...</th>\n",
       "      <th>secondary_cleaner.state.floatbank4_a_air</th>\n",
       "      <th>secondary_cleaner.state.floatbank4_a_level</th>\n",
       "      <th>secondary_cleaner.state.floatbank4_b_air</th>\n",
       "      <th>secondary_cleaner.state.floatbank4_b_level</th>\n",
       "      <th>secondary_cleaner.state.floatbank5_a_air</th>\n",
       "      <th>secondary_cleaner.state.floatbank5_a_level</th>\n",
       "      <th>secondary_cleaner.state.floatbank5_b_air</th>\n",
       "      <th>secondary_cleaner.state.floatbank5_b_level</th>\n",
       "      <th>secondary_cleaner.state.floatbank6_a_air</th>\n",
       "      <th>secondary_cleaner.state.floatbank6_a_level</th>\n",
       "    </tr>\n",
       "  </thead>\n",
       "  <tbody>\n",
       "    <tr>\n",
       "      <th>0</th>\n",
       "      <td>2016-09-01 00:59:59</td>\n",
       "      <td>210.800909</td>\n",
       "      <td>14.993118</td>\n",
       "      <td>8.080000</td>\n",
       "      <td>1.005021</td>\n",
       "      <td>1398.981301</td>\n",
       "      <td>-500.225577</td>\n",
       "      <td>1399.144926</td>\n",
       "      <td>-499.919735</td>\n",
       "      <td>1400.102998</td>\n",
       "      <td>...</td>\n",
       "      <td>12.023554</td>\n",
       "      <td>-497.795834</td>\n",
       "      <td>8.016656</td>\n",
       "      <td>-501.289139</td>\n",
       "      <td>7.946562</td>\n",
       "      <td>-432.317850</td>\n",
       "      <td>4.872511</td>\n",
       "      <td>-500.037437</td>\n",
       "      <td>26.705889</td>\n",
       "      <td>-499.709414</td>\n",
       "    </tr>\n",
       "    <tr>\n",
       "      <th>1</th>\n",
       "      <td>2016-09-01 01:59:59</td>\n",
       "      <td>215.392455</td>\n",
       "      <td>14.987471</td>\n",
       "      <td>8.080000</td>\n",
       "      <td>0.990469</td>\n",
       "      <td>1398.777912</td>\n",
       "      <td>-500.057435</td>\n",
       "      <td>1398.055362</td>\n",
       "      <td>-499.778182</td>\n",
       "      <td>1396.151033</td>\n",
       "      <td>...</td>\n",
       "      <td>12.058140</td>\n",
       "      <td>-498.695773</td>\n",
       "      <td>8.130979</td>\n",
       "      <td>-499.634209</td>\n",
       "      <td>7.958270</td>\n",
       "      <td>-525.839648</td>\n",
       "      <td>4.878850</td>\n",
       "      <td>-500.162375</td>\n",
       "      <td>25.019940</td>\n",
       "      <td>-499.819438</td>\n",
       "    </tr>\n",
       "    <tr>\n",
       "      <th>2</th>\n",
       "      <td>2016-09-01 02:59:59</td>\n",
       "      <td>215.259946</td>\n",
       "      <td>12.884934</td>\n",
       "      <td>7.786667</td>\n",
       "      <td>0.996043</td>\n",
       "      <td>1398.493666</td>\n",
       "      <td>-500.868360</td>\n",
       "      <td>1398.860436</td>\n",
       "      <td>-499.764529</td>\n",
       "      <td>1398.075709</td>\n",
       "      <td>...</td>\n",
       "      <td>11.962366</td>\n",
       "      <td>-498.767484</td>\n",
       "      <td>8.096893</td>\n",
       "      <td>-500.827423</td>\n",
       "      <td>8.071056</td>\n",
       "      <td>-500.801673</td>\n",
       "      <td>4.905125</td>\n",
       "      <td>-499.828510</td>\n",
       "      <td>24.994862</td>\n",
       "      <td>-500.622559</td>\n",
       "    </tr>\n",
       "  </tbody>\n",
       "</table>\n",
       "<p>3 rows × 53 columns</p>\n",
       "</div>"
      ],
      "text/plain": [
       "                  date  primary_cleaner.input.sulfate  \\\n",
       "0  2016-09-01 00:59:59                     210.800909   \n",
       "1  2016-09-01 01:59:59                     215.392455   \n",
       "2  2016-09-01 02:59:59                     215.259946   \n",
       "\n",
       "   primary_cleaner.input.depressant  primary_cleaner.input.feed_size  \\\n",
       "0                         14.993118                         8.080000   \n",
       "1                         14.987471                         8.080000   \n",
       "2                         12.884934                         7.786667   \n",
       "\n",
       "   primary_cleaner.input.xanthate  primary_cleaner.state.floatbank8_a_air  \\\n",
       "0                        1.005021                             1398.981301   \n",
       "1                        0.990469                             1398.777912   \n",
       "2                        0.996043                             1398.493666   \n",
       "\n",
       "   primary_cleaner.state.floatbank8_a_level  \\\n",
       "0                               -500.225577   \n",
       "1                               -500.057435   \n",
       "2                               -500.868360   \n",
       "\n",
       "   primary_cleaner.state.floatbank8_b_air  \\\n",
       "0                             1399.144926   \n",
       "1                             1398.055362   \n",
       "2                             1398.860436   \n",
       "\n",
       "   primary_cleaner.state.floatbank8_b_level  \\\n",
       "0                               -499.919735   \n",
       "1                               -499.778182   \n",
       "2                               -499.764529   \n",
       "\n",
       "   primary_cleaner.state.floatbank8_c_air  ...  \\\n",
       "0                             1400.102998  ...   \n",
       "1                             1396.151033  ...   \n",
       "2                             1398.075709  ...   \n",
       "\n",
       "   secondary_cleaner.state.floatbank4_a_air  \\\n",
       "0                                 12.023554   \n",
       "1                                 12.058140   \n",
       "2                                 11.962366   \n",
       "\n",
       "   secondary_cleaner.state.floatbank4_a_level  \\\n",
       "0                                 -497.795834   \n",
       "1                                 -498.695773   \n",
       "2                                 -498.767484   \n",
       "\n",
       "   secondary_cleaner.state.floatbank4_b_air  \\\n",
       "0                                  8.016656   \n",
       "1                                  8.130979   \n",
       "2                                  8.096893   \n",
       "\n",
       "   secondary_cleaner.state.floatbank4_b_level  \\\n",
       "0                                 -501.289139   \n",
       "1                                 -499.634209   \n",
       "2                                 -500.827423   \n",
       "\n",
       "   secondary_cleaner.state.floatbank5_a_air  \\\n",
       "0                                  7.946562   \n",
       "1                                  7.958270   \n",
       "2                                  8.071056   \n",
       "\n",
       "   secondary_cleaner.state.floatbank5_a_level  \\\n",
       "0                                 -432.317850   \n",
       "1                                 -525.839648   \n",
       "2                                 -500.801673   \n",
       "\n",
       "   secondary_cleaner.state.floatbank5_b_air  \\\n",
       "0                                  4.872511   \n",
       "1                                  4.878850   \n",
       "2                                  4.905125   \n",
       "\n",
       "   secondary_cleaner.state.floatbank5_b_level  \\\n",
       "0                                 -500.037437   \n",
       "1                                 -500.162375   \n",
       "2                                 -499.828510   \n",
       "\n",
       "   secondary_cleaner.state.floatbank6_a_air  \\\n",
       "0                                 26.705889   \n",
       "1                                 25.019940   \n",
       "2                                 24.994862   \n",
       "\n",
       "   secondary_cleaner.state.floatbank6_a_level  \n",
       "0                                 -499.709414  \n",
       "1                                 -499.819438  \n",
       "2                                 -500.622559  \n",
       "\n",
       "[3 rows x 53 columns]"
      ]
     },
     "metadata": {},
     "output_type": "display_data"
    },
    {
     "name": "stdout",
     "output_type": "stream",
     "text": [
      "<class 'pandas.core.frame.DataFrame'>\n",
      "RangeIndex: 22716 entries, 0 to 22715\n",
      "Data columns (total 87 columns):\n",
      " #   Column                                              Non-Null Count  Dtype  \n",
      "---  ------                                              --------------  -----  \n",
      " 0   date                                                22716 non-null  object \n",
      " 1   final.output.concentrate_ag                         22627 non-null  float64\n",
      " 2   final.output.concentrate_pb                         22629 non-null  float64\n",
      " 3   final.output.concentrate_sol                        22331 non-null  float64\n",
      " 4   final.output.concentrate_au                         22630 non-null  float64\n",
      " 5   final.output.recovery                               20753 non-null  float64\n",
      " 6   final.output.tail_ag                                22633 non-null  float64\n",
      " 7   final.output.tail_pb                                22516 non-null  float64\n",
      " 8   final.output.tail_sol                               22445 non-null  float64\n",
      " 9   final.output.tail_au                                22635 non-null  float64\n",
      " 10  primary_cleaner.input.sulfate                       21107 non-null  float64\n",
      " 11  primary_cleaner.input.depressant                    21170 non-null  float64\n",
      " 12  primary_cleaner.input.feed_size                     22716 non-null  float64\n",
      " 13  primary_cleaner.input.xanthate                      21565 non-null  float64\n",
      " 14  primary_cleaner.output.concentrate_ag               22618 non-null  float64\n",
      " 15  primary_cleaner.output.concentrate_pb               22268 non-null  float64\n",
      " 16  primary_cleaner.output.concentrate_sol              21918 non-null  float64\n",
      " 17  primary_cleaner.output.concentrate_au               22618 non-null  float64\n",
      " 18  primary_cleaner.output.tail_ag                      22614 non-null  float64\n",
      " 19  primary_cleaner.output.tail_pb                      22594 non-null  float64\n",
      " 20  primary_cleaner.output.tail_sol                     22365 non-null  float64\n",
      " 21  primary_cleaner.output.tail_au                      22617 non-null  float64\n",
      " 22  primary_cleaner.state.floatbank8_a_air              22660 non-null  float64\n",
      " 23  primary_cleaner.state.floatbank8_a_level            22667 non-null  float64\n",
      " 24  primary_cleaner.state.floatbank8_b_air              22660 non-null  float64\n",
      " 25  primary_cleaner.state.floatbank8_b_level            22673 non-null  float64\n",
      " 26  primary_cleaner.state.floatbank8_c_air              22662 non-null  float64\n",
      " 27  primary_cleaner.state.floatbank8_c_level            22673 non-null  float64\n",
      " 28  primary_cleaner.state.floatbank8_d_air              22661 non-null  float64\n",
      " 29  primary_cleaner.state.floatbank8_d_level            22673 non-null  float64\n",
      " 30  rougher.calculation.sulfate_to_au_concentrate       22672 non-null  float64\n",
      " 31  rougher.calculation.floatbank10_sulfate_to_au_feed  22672 non-null  float64\n",
      " 32  rougher.calculation.floatbank11_sulfate_to_au_feed  22672 non-null  float64\n",
      " 33  rougher.calculation.au_pb_ratio                     21089 non-null  float64\n",
      " 34  rougher.input.feed_ag                               22618 non-null  float64\n",
      " 35  rougher.input.feed_pb                               22472 non-null  float64\n",
      " 36  rougher.input.feed_rate                             22163 non-null  float64\n",
      " 37  rougher.input.feed_size                             22277 non-null  float64\n",
      " 38  rougher.input.feed_sol                              22357 non-null  float64\n",
      " 39  rougher.input.feed_au                               22617 non-null  float64\n",
      " 40  rougher.input.floatbank10_sulfate                   21415 non-null  float64\n",
      " 41  rougher.input.floatbank10_xanthate                  22247 non-null  float64\n",
      " 42  rougher.input.floatbank11_sulfate                   22038 non-null  float64\n",
      " 43  rougher.input.floatbank11_xanthate                  20459 non-null  float64\n",
      " 44  rougher.output.concentrate_ag                       22618 non-null  float64\n",
      " 45  rougher.output.concentrate_pb                       22618 non-null  float64\n",
      " 46  rougher.output.concentrate_sol                      22526 non-null  float64\n",
      " 47  rougher.output.concentrate_au                       22618 non-null  float64\n",
      " 48  rougher.output.recovery                             19597 non-null  float64\n",
      " 49  rougher.output.tail_ag                              19979 non-null  float64\n",
      " 50  rougher.output.tail_pb                              22618 non-null  float64\n",
      " 51  rougher.output.tail_sol                             19980 non-null  float64\n",
      " 52  rougher.output.tail_au                              19980 non-null  float64\n",
      " 53  rougher.state.floatbank10_a_air                     22646 non-null  float64\n",
      " 54  rougher.state.floatbank10_a_level                   22647 non-null  float64\n",
      " 55  rougher.state.floatbank10_b_air                     22646 non-null  float64\n",
      " 56  rougher.state.floatbank10_b_level                   22647 non-null  float64\n",
      " 57  rougher.state.floatbank10_c_air                     22646 non-null  float64\n",
      " 58  rougher.state.floatbank10_c_level                   22654 non-null  float64\n",
      " 59  rougher.state.floatbank10_d_air                     22641 non-null  float64\n",
      " 60  rougher.state.floatbank10_d_level                   22649 non-null  float64\n",
      " 61  rougher.state.floatbank10_e_air                     22096 non-null  float64\n",
      " 62  rougher.state.floatbank10_e_level                   22649 non-null  float64\n",
      " 63  rougher.state.floatbank10_f_air                     22641 non-null  float64\n",
      " 64  rougher.state.floatbank10_f_level                   22642 non-null  float64\n",
      " 65  secondary_cleaner.output.tail_ag                    22616 non-null  float64\n",
      " 66  secondary_cleaner.output.tail_pb                    22600 non-null  float64\n",
      " 67  secondary_cleaner.output.tail_sol                   20501 non-null  float64\n",
      " 68  secondary_cleaner.output.tail_au                    22618 non-null  float64\n",
      " 69  secondary_cleaner.state.floatbank2_a_air            22333 non-null  float64\n",
      " 70  secondary_cleaner.state.floatbank2_a_level          22591 non-null  float64\n",
      " 71  secondary_cleaner.state.floatbank2_b_air            22538 non-null  float64\n",
      " 72  secondary_cleaner.state.floatbank2_b_level          22588 non-null  float64\n",
      " 73  secondary_cleaner.state.floatbank3_a_air            22585 non-null  float64\n",
      " 74  secondary_cleaner.state.floatbank3_a_level          22587 non-null  float64\n",
      " 75  secondary_cleaner.state.floatbank3_b_air            22592 non-null  float64\n",
      " 76  secondary_cleaner.state.floatbank3_b_level          22590 non-null  float64\n",
      " 77  secondary_cleaner.state.floatbank4_a_air            22571 non-null  float64\n",
      " 78  secondary_cleaner.state.floatbank4_a_level          22587 non-null  float64\n",
      " 79  secondary_cleaner.state.floatbank4_b_air            22608 non-null  float64\n",
      " 80  secondary_cleaner.state.floatbank4_b_level          22607 non-null  float64\n",
      " 81  secondary_cleaner.state.floatbank5_a_air            22615 non-null  float64\n",
      " 82  secondary_cleaner.state.floatbank5_a_level          22615 non-null  float64\n",
      " 83  secondary_cleaner.state.floatbank5_b_air            22615 non-null  float64\n",
      " 84  secondary_cleaner.state.floatbank5_b_level          22616 non-null  float64\n",
      " 85  secondary_cleaner.state.floatbank6_a_air            22597 non-null  float64\n",
      " 86  secondary_cleaner.state.floatbank6_a_level          22615 non-null  float64\n",
      "dtypes: float64(86), object(1)\n",
      "memory usage: 15.1+ MB\n"
     ]
    },
    {
     "data": {
      "text/html": [
       "<div>\n",
       "<style scoped>\n",
       "    .dataframe tbody tr th:only-of-type {\n",
       "        vertical-align: middle;\n",
       "    }\n",
       "\n",
       "    .dataframe tbody tr th {\n",
       "        vertical-align: top;\n",
       "    }\n",
       "\n",
       "    .dataframe thead th {\n",
       "        text-align: right;\n",
       "    }\n",
       "</style>\n",
       "<table border=\"1\" class=\"dataframe\">\n",
       "  <thead>\n",
       "    <tr style=\"text-align: right;\">\n",
       "      <th></th>\n",
       "      <th>date</th>\n",
       "      <th>final.output.concentrate_ag</th>\n",
       "      <th>final.output.concentrate_pb</th>\n",
       "      <th>final.output.concentrate_sol</th>\n",
       "      <th>final.output.concentrate_au</th>\n",
       "      <th>final.output.recovery</th>\n",
       "      <th>final.output.tail_ag</th>\n",
       "      <th>final.output.tail_pb</th>\n",
       "      <th>final.output.tail_sol</th>\n",
       "      <th>final.output.tail_au</th>\n",
       "      <th>...</th>\n",
       "      <th>secondary_cleaner.state.floatbank4_a_air</th>\n",
       "      <th>secondary_cleaner.state.floatbank4_a_level</th>\n",
       "      <th>secondary_cleaner.state.floatbank4_b_air</th>\n",
       "      <th>secondary_cleaner.state.floatbank4_b_level</th>\n",
       "      <th>secondary_cleaner.state.floatbank5_a_air</th>\n",
       "      <th>secondary_cleaner.state.floatbank5_a_level</th>\n",
       "      <th>secondary_cleaner.state.floatbank5_b_air</th>\n",
       "      <th>secondary_cleaner.state.floatbank5_b_level</th>\n",
       "      <th>secondary_cleaner.state.floatbank6_a_air</th>\n",
       "      <th>secondary_cleaner.state.floatbank6_a_level</th>\n",
       "    </tr>\n",
       "  </thead>\n",
       "  <tbody>\n",
       "    <tr>\n",
       "      <th>0</th>\n",
       "      <td>2016-01-15 00:00:00</td>\n",
       "      <td>6.055403</td>\n",
       "      <td>9.889648</td>\n",
       "      <td>5.507324</td>\n",
       "      <td>42.192020</td>\n",
       "      <td>70.541216</td>\n",
       "      <td>10.411962</td>\n",
       "      <td>0.895447</td>\n",
       "      <td>16.904297</td>\n",
       "      <td>2.143149</td>\n",
       "      <td>...</td>\n",
       "      <td>14.016835</td>\n",
       "      <td>-502.488007</td>\n",
       "      <td>12.099931</td>\n",
       "      <td>-504.715942</td>\n",
       "      <td>9.925633</td>\n",
       "      <td>-498.310211</td>\n",
       "      <td>8.079666</td>\n",
       "      <td>-500.470978</td>\n",
       "      <td>14.151341</td>\n",
       "      <td>-605.841980</td>\n",
       "    </tr>\n",
       "    <tr>\n",
       "      <th>1</th>\n",
       "      <td>2016-01-15 01:00:00</td>\n",
       "      <td>6.029369</td>\n",
       "      <td>9.968944</td>\n",
       "      <td>5.257781</td>\n",
       "      <td>42.701629</td>\n",
       "      <td>69.266198</td>\n",
       "      <td>10.462676</td>\n",
       "      <td>0.927452</td>\n",
       "      <td>16.634514</td>\n",
       "      <td>2.224930</td>\n",
       "      <td>...</td>\n",
       "      <td>13.992281</td>\n",
       "      <td>-505.503262</td>\n",
       "      <td>11.950531</td>\n",
       "      <td>-501.331529</td>\n",
       "      <td>10.039245</td>\n",
       "      <td>-500.169983</td>\n",
       "      <td>7.984757</td>\n",
       "      <td>-500.582168</td>\n",
       "      <td>13.998353</td>\n",
       "      <td>-599.787184</td>\n",
       "    </tr>\n",
       "    <tr>\n",
       "      <th>2</th>\n",
       "      <td>2016-01-15 02:00:00</td>\n",
       "      <td>6.055926</td>\n",
       "      <td>10.213995</td>\n",
       "      <td>5.383759</td>\n",
       "      <td>42.657501</td>\n",
       "      <td>68.116445</td>\n",
       "      <td>10.507046</td>\n",
       "      <td>0.953716</td>\n",
       "      <td>16.208849</td>\n",
       "      <td>2.257889</td>\n",
       "      <td>...</td>\n",
       "      <td>14.015015</td>\n",
       "      <td>-502.520901</td>\n",
       "      <td>11.912783</td>\n",
       "      <td>-501.133383</td>\n",
       "      <td>10.070913</td>\n",
       "      <td>-500.129135</td>\n",
       "      <td>8.013877</td>\n",
       "      <td>-500.517572</td>\n",
       "      <td>14.028663</td>\n",
       "      <td>-601.427363</td>\n",
       "    </tr>\n",
       "  </tbody>\n",
       "</table>\n",
       "<p>3 rows × 87 columns</p>\n",
       "</div>"
      ],
      "text/plain": [
       "                  date  final.output.concentrate_ag  \\\n",
       "0  2016-01-15 00:00:00                     6.055403   \n",
       "1  2016-01-15 01:00:00                     6.029369   \n",
       "2  2016-01-15 02:00:00                     6.055926   \n",
       "\n",
       "   final.output.concentrate_pb  final.output.concentrate_sol  \\\n",
       "0                     9.889648                      5.507324   \n",
       "1                     9.968944                      5.257781   \n",
       "2                    10.213995                      5.383759   \n",
       "\n",
       "   final.output.concentrate_au  final.output.recovery  final.output.tail_ag  \\\n",
       "0                    42.192020              70.541216             10.411962   \n",
       "1                    42.701629              69.266198             10.462676   \n",
       "2                    42.657501              68.116445             10.507046   \n",
       "\n",
       "   final.output.tail_pb  final.output.tail_sol  final.output.tail_au  ...  \\\n",
       "0              0.895447              16.904297              2.143149  ...   \n",
       "1              0.927452              16.634514              2.224930  ...   \n",
       "2              0.953716              16.208849              2.257889  ...   \n",
       "\n",
       "   secondary_cleaner.state.floatbank4_a_air  \\\n",
       "0                                 14.016835   \n",
       "1                                 13.992281   \n",
       "2                                 14.015015   \n",
       "\n",
       "   secondary_cleaner.state.floatbank4_a_level  \\\n",
       "0                                 -502.488007   \n",
       "1                                 -505.503262   \n",
       "2                                 -502.520901   \n",
       "\n",
       "   secondary_cleaner.state.floatbank4_b_air  \\\n",
       "0                                 12.099931   \n",
       "1                                 11.950531   \n",
       "2                                 11.912783   \n",
       "\n",
       "   secondary_cleaner.state.floatbank4_b_level  \\\n",
       "0                                 -504.715942   \n",
       "1                                 -501.331529   \n",
       "2                                 -501.133383   \n",
       "\n",
       "   secondary_cleaner.state.floatbank5_a_air  \\\n",
       "0                                  9.925633   \n",
       "1                                 10.039245   \n",
       "2                                 10.070913   \n",
       "\n",
       "   secondary_cleaner.state.floatbank5_a_level  \\\n",
       "0                                 -498.310211   \n",
       "1                                 -500.169983   \n",
       "2                                 -500.129135   \n",
       "\n",
       "   secondary_cleaner.state.floatbank5_b_air  \\\n",
       "0                                  8.079666   \n",
       "1                                  7.984757   \n",
       "2                                  8.013877   \n",
       "\n",
       "   secondary_cleaner.state.floatbank5_b_level  \\\n",
       "0                                 -500.470978   \n",
       "1                                 -500.582168   \n",
       "2                                 -500.517572   \n",
       "\n",
       "   secondary_cleaner.state.floatbank6_a_air  \\\n",
       "0                                 14.151341   \n",
       "1                                 13.998353   \n",
       "2                                 14.028663   \n",
       "\n",
       "   secondary_cleaner.state.floatbank6_a_level  \n",
       "0                                 -605.841980  \n",
       "1                                 -599.787184  \n",
       "2                                 -601.427363  \n",
       "\n",
       "[3 rows x 87 columns]"
      ]
     },
     "metadata": {},
     "output_type": "display_data"
    }
   ],
   "source": [
    "# Read Dataframe\n",
    "df_train_raw = pd.read_csv('./datasets/gold_recovery_train.csv')\n",
    "df_test_raw = pd.read_csv('./datasets/gold_recovery_test.csv')\n",
    "df_full_raw = pd.read_csv('./datasets/gold_recovery_full.csv')\n",
    "\n",
    "# Quick look\n",
    "df_train_raw.info()\n",
    "display(df_train_raw.head(3))\n",
    "df_test_raw.info()\n",
    "display(df_test_raw.head(3))\n",
    "df_full_raw.info()\n",
    "display(df_full_raw.head(3))"
   ]
  },
  {
   "cell_type": "markdown",
   "metadata": {},
   "source": [
    "### Ensure Correct Calculation of Rougher Output"
   ]
  },
  {
   "cell_type": "code",
   "execution_count": 3,
   "metadata": {
    "scrolled": true
   },
   "outputs": [
    {
     "name": "stdout",
     "output_type": "stream",
     "text": [
      "MAE for rougher recovery prediction using rougher concentrate formula:  0.0000\n"
     ]
    },
    {
     "data": {
      "text/html": [
       "<div>\n",
       "<style scoped>\n",
       "    .dataframe tbody tr th:only-of-type {\n",
       "        vertical-align: middle;\n",
       "    }\n",
       "\n",
       "    .dataframe tbody tr th {\n",
       "        vertical-align: top;\n",
       "    }\n",
       "\n",
       "    .dataframe thead th {\n",
       "        text-align: right;\n",
       "    }\n",
       "</style>\n",
       "<table border=\"1\" class=\"dataframe\">\n",
       "  <thead>\n",
       "    <tr style=\"text-align: right;\">\n",
       "      <th></th>\n",
       "      <th>predicted_rougher_recovery</th>\n",
       "      <th>actual_rougher_recovery</th>\n",
       "    </tr>\n",
       "  </thead>\n",
       "  <tbody>\n",
       "    <tr>\n",
       "      <th>0</th>\n",
       "      <td>87.107763</td>\n",
       "      <td>87.107763</td>\n",
       "    </tr>\n",
       "    <tr>\n",
       "      <th>1</th>\n",
       "      <td>86.843261</td>\n",
       "      <td>86.843261</td>\n",
       "    </tr>\n",
       "    <tr>\n",
       "      <th>2</th>\n",
       "      <td>86.842308</td>\n",
       "      <td>86.842308</td>\n",
       "    </tr>\n",
       "    <tr>\n",
       "      <th>3</th>\n",
       "      <td>87.226430</td>\n",
       "      <td>87.226430</td>\n",
       "    </tr>\n",
       "    <tr>\n",
       "      <th>4</th>\n",
       "      <td>86.688794</td>\n",
       "      <td>86.688794</td>\n",
       "    </tr>\n",
       "    <tr>\n",
       "      <th>5</th>\n",
       "      <td>88.156912</td>\n",
       "      <td>88.156912</td>\n",
       "    </tr>\n",
       "    <tr>\n",
       "      <th>6</th>\n",
       "      <td>88.168065</td>\n",
       "      <td>88.168065</td>\n",
       "    </tr>\n",
       "    <tr>\n",
       "      <th>7</th>\n",
       "      <td>87.668336</td>\n",
       "      <td>87.668336</td>\n",
       "    </tr>\n",
       "    <tr>\n",
       "      <th>8</th>\n",
       "      <td>87.035862</td>\n",
       "      <td>87.035862</td>\n",
       "    </tr>\n",
       "    <tr>\n",
       "      <th>9</th>\n",
       "      <td>87.650868</td>\n",
       "      <td>87.650868</td>\n",
       "    </tr>\n",
       "    <tr>\n",
       "      <th>10</th>\n",
       "      <td>88.280699</td>\n",
       "      <td>88.280699</td>\n",
       "    </tr>\n",
       "    <tr>\n",
       "      <th>11</th>\n",
       "      <td>88.499117</td>\n",
       "      <td>88.499117</td>\n",
       "    </tr>\n",
       "    <tr>\n",
       "      <th>12</th>\n",
       "      <td>89.299981</td>\n",
       "      <td>89.299981</td>\n",
       "    </tr>\n",
       "    <tr>\n",
       "      <th>13</th>\n",
       "      <td>89.519701</td>\n",
       "      <td>89.519701</td>\n",
       "    </tr>\n",
       "    <tr>\n",
       "      <th>14</th>\n",
       "      <td>87.235441</td>\n",
       "      <td>87.235441</td>\n",
       "    </tr>\n",
       "    <tr>\n",
       "      <th>15</th>\n",
       "      <td>85.136294</td>\n",
       "      <td>85.136294</td>\n",
       "    </tr>\n",
       "    <tr>\n",
       "      <th>16</th>\n",
       "      <td>85.443505</td>\n",
       "      <td>85.443505</td>\n",
       "    </tr>\n",
       "    <tr>\n",
       "      <th>17</th>\n",
       "      <td>86.489827</td>\n",
       "      <td>86.489827</td>\n",
       "    </tr>\n",
       "    <tr>\n",
       "      <th>18</th>\n",
       "      <td>85.462226</td>\n",
       "      <td>85.462226</td>\n",
       "    </tr>\n",
       "    <tr>\n",
       "      <th>19</th>\n",
       "      <td>86.241795</td>\n",
       "      <td>86.241795</td>\n",
       "    </tr>\n",
       "  </tbody>\n",
       "</table>\n",
       "</div>"
      ],
      "text/plain": [
       "    predicted_rougher_recovery  actual_rougher_recovery\n",
       "0                    87.107763                87.107763\n",
       "1                    86.843261                86.843261\n",
       "2                    86.842308                86.842308\n",
       "3                    87.226430                87.226430\n",
       "4                    86.688794                86.688794\n",
       "5                    88.156912                88.156912\n",
       "6                    88.168065                88.168065\n",
       "7                    87.668336                87.668336\n",
       "8                    87.035862                87.035862\n",
       "9                    87.650868                87.650868\n",
       "10                   88.280699                88.280699\n",
       "11                   88.499117                88.499117\n",
       "12                   89.299981                89.299981\n",
       "13                   89.519701                89.519701\n",
       "14                   87.235441                87.235441\n",
       "15                   85.136294                85.136294\n",
       "16                   85.443505                85.443505\n",
       "17                   86.489827                86.489827\n",
       "18                   85.462226                85.462226\n",
       "19                   86.241795                86.241795"
      ]
     },
     "metadata": {},
     "output_type": "display_data"
    }
   ],
   "source": [
    "# Check our work by predicting recovery values and comparing\n",
    "\n",
    "''' \n",
    "RECOVERY FORMULA as FUNCTION: \n",
    "\n",
    "                C x (F - T)\n",
    "    Recovery =  ----------- x 100%\n",
    "                F x (C - T)\n",
    "    \n",
    "For finding the rougher concentrate recovery, the above letters mean:\n",
    "\n",
    "    C = share of gold (au) in concentrate after flotation     =  rougher.output.concentrate_au\n",
    "    F = share of gold (au) in feed before flotation           =  rougher.input.feed_au\n",
    "    T = share of gold (au) in rougher tails after flotation   =  rougher.output.tail_au\n",
    "'''\n",
    "\n",
    "# Make prediction of rougher recovery with above formula\n",
    "df_train_predicted_recovery_vals = (100 * df_train_raw['rougher.output.concentrate_au'] * \n",
    "    (df_train_raw['rougher.input.feed_au'] - df_train_raw['rougher.output.tail_au'])) / (df_train_raw['rougher.input.feed_au'] * \n",
    "    (df_train_raw['rougher.output.concentrate_au'] - df_train_raw['rougher.output.tail_au']))\n",
    "\n",
    "# Calculate MAE, excluding NaN entries for now\n",
    "nan_mask = df_train_raw['rougher.output.recovery'].isnull()\n",
    "mae_rougher_recovery = mean_absolute_error(df_train_raw['rougher.output.recovery'][~nan_mask], df_train_predicted_recovery_vals[~nan_mask])\n",
    "print('MAE for rougher recovery prediction using rougher concentrate formula:  {:.4f}'.format(mae_rougher_recovery))\n",
    "\n",
    "# Compare against stored values in each dataframe\n",
    "compare_df = pd.DataFrame()\n",
    "compare_df['predicted_rougher_recovery'] = df_train_predicted_recovery_vals\n",
    "compare_df['actual_rougher_recovery'] = df_train_raw['rougher.output.recovery']\n",
    "display(compare_df.head(20))"
   ]
  },
  {
   "cell_type": "markdown",
   "metadata": {},
   "source": [
    "The rougher recovery value appears to have been calculated according to the correct formula provided, with an MAE of 0.0000. We used only the training set to verify this calculation, since all OUTPUT features are omitted in the test set. We will look further into this difference in the next section.\n",
    "\n",
    "### Compare Training and Test Set Features"
   ]
  },
  {
   "cell_type": "code",
   "execution_count": 4,
   "metadata": {},
   "outputs": [
    {
     "name": "stdout",
     "output_type": "stream",
     "text": [
      "Features in training set omitted from the test set:\n",
      "\n"
     ]
    },
    {
     "data": {
      "text/plain": [
       "0                           final.output.concentrate_ag\n",
       "1                           final.output.concentrate_au\n",
       "2                           final.output.concentrate_pb\n",
       "3                          final.output.concentrate_sol\n",
       "4                                 final.output.recovery\n",
       "5                                  final.output.tail_ag\n",
       "6                                  final.output.tail_au\n",
       "7                                  final.output.tail_pb\n",
       "8                                 final.output.tail_sol\n",
       "9                 primary_cleaner.output.concentrate_ag\n",
       "10                primary_cleaner.output.concentrate_au\n",
       "11                primary_cleaner.output.concentrate_pb\n",
       "12               primary_cleaner.output.concentrate_sol\n",
       "13                       primary_cleaner.output.tail_ag\n",
       "14                       primary_cleaner.output.tail_au\n",
       "15                       primary_cleaner.output.tail_pb\n",
       "16                      primary_cleaner.output.tail_sol\n",
       "17                      rougher.calculation.au_pb_ratio\n",
       "18    rougher.calculation.floatbank10_sulfate_to_au_...\n",
       "19    rougher.calculation.floatbank11_sulfate_to_au_...\n",
       "20        rougher.calculation.sulfate_to_au_concentrate\n",
       "21                        rougher.output.concentrate_ag\n",
       "22                        rougher.output.concentrate_au\n",
       "23                        rougher.output.concentrate_pb\n",
       "24                       rougher.output.concentrate_sol\n",
       "25                              rougher.output.recovery\n",
       "26                               rougher.output.tail_ag\n",
       "27                               rougher.output.tail_au\n",
       "28                               rougher.output.tail_pb\n",
       "29                              rougher.output.tail_sol\n",
       "30                     secondary_cleaner.output.tail_ag\n",
       "31                     secondary_cleaner.output.tail_au\n",
       "32                     secondary_cleaner.output.tail_pb\n",
       "33                    secondary_cleaner.output.tail_sol\n",
       "dtype: object"
      ]
     },
     "metadata": {},
     "output_type": "display_data"
    }
   ],
   "source": [
    "# Get list of features for the two dataframes to compare\n",
    "train_cols = df_train_raw.columns.tolist()\n",
    "test_cols = df_test_raw.columns.tolist()\n",
    "\n",
    "# Use NumPy's setdiff1d to see elements of test_cols not in train_cols\n",
    "diff_cols = np.setdiff1d(train_cols, test_cols)\n",
    "print('Features in training set omitted from the test set:')\n",
    "print('')\n",
    "display(pd.Series(diff_cols))"
   ]
  },
  {
   "cell_type": "markdown",
   "metadata": {},
   "source": [
    "The bulk of the missing features in the test dataframe (as compared to the train dataframe) relate to output measures at each stage, including our target features. **This is troubling since we will be hard-pressed to evaluate the final models using the test dataset without matching target features.** We will need to find the 'final.output.recovery' and 'final.output.recovery' features in the complete dataframe and add them to the test dataframe."
   ]
  },
  {
   "cell_type": "code",
   "execution_count": 5,
   "metadata": {},
   "outputs": [],
   "source": [
    "# Do an inner merge \n",
    "df_test = df_test_raw.merge(df_full_raw[['date', 'rougher.output.recovery', 'final.output.recovery']], on='date', how='left')"
   ]
  },
  {
   "cell_type": "code",
   "execution_count": 6,
   "metadata": {
    "scrolled": true
   },
   "outputs": [
    {
     "data": {
      "text/html": [
       "<div>\n",
       "<style scoped>\n",
       "    .dataframe tbody tr th:only-of-type {\n",
       "        vertical-align: middle;\n",
       "    }\n",
       "\n",
       "    .dataframe tbody tr th {\n",
       "        vertical-align: top;\n",
       "    }\n",
       "\n",
       "    .dataframe thead th {\n",
       "        text-align: right;\n",
       "    }\n",
       "</style>\n",
       "<table border=\"1\" class=\"dataframe\">\n",
       "  <thead>\n",
       "    <tr style=\"text-align: right;\">\n",
       "      <th></th>\n",
       "      <th>final.output.concentrate_ag</th>\n",
       "      <th>final.output.concentrate_au</th>\n",
       "      <th>final.output.concentrate_pb</th>\n",
       "      <th>final.output.concentrate_sol</th>\n",
       "      <th>final.output.recovery</th>\n",
       "      <th>final.output.tail_ag</th>\n",
       "      <th>final.output.tail_au</th>\n",
       "      <th>final.output.tail_pb</th>\n",
       "      <th>final.output.tail_sol</th>\n",
       "      <th>primary_cleaner.output.concentrate_ag</th>\n",
       "      <th>...</th>\n",
       "      <th>rougher.output.concentrate_sol</th>\n",
       "      <th>rougher.output.recovery</th>\n",
       "      <th>rougher.output.tail_ag</th>\n",
       "      <th>rougher.output.tail_au</th>\n",
       "      <th>rougher.output.tail_pb</th>\n",
       "      <th>rougher.output.tail_sol</th>\n",
       "      <th>secondary_cleaner.output.tail_ag</th>\n",
       "      <th>secondary_cleaner.output.tail_au</th>\n",
       "      <th>secondary_cleaner.output.tail_pb</th>\n",
       "      <th>secondary_cleaner.output.tail_sol</th>\n",
       "    </tr>\n",
       "  </thead>\n",
       "  <tbody>\n",
       "    <tr>\n",
       "      <th>0</th>\n",
       "      <td>6.055403</td>\n",
       "      <td>42.192020</td>\n",
       "      <td>9.889648</td>\n",
       "      <td>5.507324</td>\n",
       "      <td>70.541216</td>\n",
       "      <td>10.411962</td>\n",
       "      <td>2.143149</td>\n",
       "      <td>0.895447</td>\n",
       "      <td>16.904297</td>\n",
       "      <td>8.547551</td>\n",
       "      <td>...</td>\n",
       "      <td>28.029297</td>\n",
       "      <td>87.107763</td>\n",
       "      <td>5.008018</td>\n",
       "      <td>1.170244</td>\n",
       "      <td>0.508728</td>\n",
       "      <td>19.154297</td>\n",
       "      <td>14.500184</td>\n",
       "      <td>2.606185</td>\n",
       "      <td>4.694824</td>\n",
       "      <td>8.764648</td>\n",
       "    </tr>\n",
       "    <tr>\n",
       "      <th>1</th>\n",
       "      <td>6.029369</td>\n",
       "      <td>42.701629</td>\n",
       "      <td>9.968944</td>\n",
       "      <td>5.257781</td>\n",
       "      <td>69.266198</td>\n",
       "      <td>10.462676</td>\n",
       "      <td>2.224930</td>\n",
       "      <td>0.927452</td>\n",
       "      <td>16.634514</td>\n",
       "      <td>8.558743</td>\n",
       "      <td>...</td>\n",
       "      <td>28.067063</td>\n",
       "      <td>86.843261</td>\n",
       "      <td>4.955378</td>\n",
       "      <td>1.184827</td>\n",
       "      <td>0.536689</td>\n",
       "      <td>18.965234</td>\n",
       "      <td>14.265474</td>\n",
       "      <td>2.488248</td>\n",
       "      <td>4.592547</td>\n",
       "      <td>9.001494</td>\n",
       "    </tr>\n",
       "    <tr>\n",
       "      <th>2</th>\n",
       "      <td>6.055926</td>\n",
       "      <td>42.657501</td>\n",
       "      <td>10.213995</td>\n",
       "      <td>5.383759</td>\n",
       "      <td>68.116445</td>\n",
       "      <td>10.507046</td>\n",
       "      <td>2.257889</td>\n",
       "      <td>0.953716</td>\n",
       "      <td>16.208849</td>\n",
       "      <td>8.603505</td>\n",
       "      <td>...</td>\n",
       "      <td>27.454037</td>\n",
       "      <td>86.842308</td>\n",
       "      <td>4.843460</td>\n",
       "      <td>1.162562</td>\n",
       "      <td>0.546416</td>\n",
       "      <td>18.808533</td>\n",
       "      <td>14.115662</td>\n",
       "      <td>2.458187</td>\n",
       "      <td>4.624775</td>\n",
       "      <td>8.842896</td>\n",
       "    </tr>\n",
       "    <tr>\n",
       "      <th>3</th>\n",
       "      <td>6.047977</td>\n",
       "      <td>42.689819</td>\n",
       "      <td>9.977019</td>\n",
       "      <td>4.858634</td>\n",
       "      <td>68.347543</td>\n",
       "      <td>10.422762</td>\n",
       "      <td>2.146849</td>\n",
       "      <td>0.883763</td>\n",
       "      <td>16.532835</td>\n",
       "      <td>7.221879</td>\n",
       "      <td>...</td>\n",
       "      <td>27.341277</td>\n",
       "      <td>87.226430</td>\n",
       "      <td>4.655288</td>\n",
       "      <td>1.079755</td>\n",
       "      <td>0.542525</td>\n",
       "      <td>19.330200</td>\n",
       "      <td>13.732071</td>\n",
       "      <td>2.322062</td>\n",
       "      <td>4.482453</td>\n",
       "      <td>9.122857</td>\n",
       "    </tr>\n",
       "    <tr>\n",
       "      <th>4</th>\n",
       "      <td>6.148599</td>\n",
       "      <td>42.774141</td>\n",
       "      <td>10.142511</td>\n",
       "      <td>4.939416</td>\n",
       "      <td>66.927016</td>\n",
       "      <td>10.360302</td>\n",
       "      <td>2.055292</td>\n",
       "      <td>0.792826</td>\n",
       "      <td>16.525686</td>\n",
       "      <td>9.089428</td>\n",
       "      <td>...</td>\n",
       "      <td>27.041023</td>\n",
       "      <td>86.688794</td>\n",
       "      <td>4.552800</td>\n",
       "      <td>1.012642</td>\n",
       "      <td>0.515438</td>\n",
       "      <td>19.267422</td>\n",
       "      <td>14.079996</td>\n",
       "      <td>2.330448</td>\n",
       "      <td>4.470737</td>\n",
       "      <td>8.871028</td>\n",
       "    </tr>\n",
       "    <tr>\n",
       "      <th>5</th>\n",
       "      <td>6.482968</td>\n",
       "      <td>41.633678</td>\n",
       "      <td>10.049416</td>\n",
       "      <td>5.480257</td>\n",
       "      <td>69.465816</td>\n",
       "      <td>10.182708</td>\n",
       "      <td>1.918586</td>\n",
       "      <td>0.664118</td>\n",
       "      <td>16.999638</td>\n",
       "      <td>9.553724</td>\n",
       "      <td>...</td>\n",
       "      <td>26.898046</td>\n",
       "      <td>88.156912</td>\n",
       "      <td>4.397415</td>\n",
       "      <td>0.915835</td>\n",
       "      <td>0.491350</td>\n",
       "      <td>19.640269</td>\n",
       "      <td>13.615012</td>\n",
       "      <td>2.192127</td>\n",
       "      <td>4.286817</td>\n",
       "      <td>9.302669</td>\n",
       "    </tr>\n",
       "    <tr>\n",
       "      <th>6</th>\n",
       "      <td>6.533849</td>\n",
       "      <td>41.995316</td>\n",
       "      <td>10.058141</td>\n",
       "      <td>4.569100</td>\n",
       "      <td>69.300835</td>\n",
       "      <td>10.304598</td>\n",
       "      <td>2.058913</td>\n",
       "      <td>0.807342</td>\n",
       "      <td>16.723575</td>\n",
       "      <td>8.968869</td>\n",
       "      <td>...</td>\n",
       "      <td>27.063672</td>\n",
       "      <td>88.168065</td>\n",
       "      <td>4.478080</td>\n",
       "      <td>0.986248</td>\n",
       "      <td>0.518266</td>\n",
       "      <td>19.262491</td>\n",
       "      <td>13.597056</td>\n",
       "      <td>2.316720</td>\n",
       "      <td>4.487865</td>\n",
       "      <td>9.103047</td>\n",
       "    </tr>\n",
       "    <tr>\n",
       "      <th>7</th>\n",
       "      <td>6.130823</td>\n",
       "      <td>42.452727</td>\n",
       "      <td>9.935481</td>\n",
       "      <td>4.389813</td>\n",
       "      <td>70.230976</td>\n",
       "      <td>10.443288</td>\n",
       "      <td>2.143437</td>\n",
       "      <td>0.949346</td>\n",
       "      <td>16.689959</td>\n",
       "      <td>8.545238</td>\n",
       "      <td>...</td>\n",
       "      <td>27.231114</td>\n",
       "      <td>87.668336</td>\n",
       "      <td>4.728325</td>\n",
       "      <td>1.116110</td>\n",
       "      <td>0.548067</td>\n",
       "      <td>18.861866</td>\n",
       "      <td>13.177237</td>\n",
       "      <td>2.192197</td>\n",
       "      <td>4.432448</td>\n",
       "      <td>9.369209</td>\n",
       "    </tr>\n",
       "    <tr>\n",
       "      <th>8</th>\n",
       "      <td>5.834140</td>\n",
       "      <td>43.404078</td>\n",
       "      <td>10.071156</td>\n",
       "      <td>4.876389</td>\n",
       "      <td>69.688595</td>\n",
       "      <td>10.420140</td>\n",
       "      <td>2.209881</td>\n",
       "      <td>1.065453</td>\n",
       "      <td>17.201948</td>\n",
       "      <td>8.046686</td>\n",
       "      <td>...</td>\n",
       "      <td>27.404296</td>\n",
       "      <td>87.035862</td>\n",
       "      <td>4.764300</td>\n",
       "      <td>1.186780</td>\n",
       "      <td>0.599181</td>\n",
       "      <td>18.873082</td>\n",
       "      <td>13.487870</td>\n",
       "      <td>2.212084</td>\n",
       "      <td>4.608756</td>\n",
       "      <td>9.437044</td>\n",
       "    </tr>\n",
       "    <tr>\n",
       "      <th>9</th>\n",
       "      <td>5.687063</td>\n",
       "      <td>43.235220</td>\n",
       "      <td>9.980404</td>\n",
       "      <td>5.282514</td>\n",
       "      <td>70.279619</td>\n",
       "      <td>10.487013</td>\n",
       "      <td>2.209593</td>\n",
       "      <td>1.159805</td>\n",
       "      <td>17.483979</td>\n",
       "      <td>8.098985</td>\n",
       "      <td>...</td>\n",
       "      <td>27.497520</td>\n",
       "      <td>87.650868</td>\n",
       "      <td>4.667157</td>\n",
       "      <td>1.167140</td>\n",
       "      <td>0.615418</td>\n",
       "      <td>18.907179</td>\n",
       "      <td>13.209191</td>\n",
       "      <td>2.073737</td>\n",
       "      <td>4.550553</td>\n",
       "      <td>9.813732</td>\n",
       "    </tr>\n",
       "  </tbody>\n",
       "</table>\n",
       "<p>10 rows × 34 columns</p>\n",
       "</div>"
      ],
      "text/plain": [
       "   final.output.concentrate_ag  final.output.concentrate_au  \\\n",
       "0                     6.055403                    42.192020   \n",
       "1                     6.029369                    42.701629   \n",
       "2                     6.055926                    42.657501   \n",
       "3                     6.047977                    42.689819   \n",
       "4                     6.148599                    42.774141   \n",
       "5                     6.482968                    41.633678   \n",
       "6                     6.533849                    41.995316   \n",
       "7                     6.130823                    42.452727   \n",
       "8                     5.834140                    43.404078   \n",
       "9                     5.687063                    43.235220   \n",
       "\n",
       "   final.output.concentrate_pb  final.output.concentrate_sol  \\\n",
       "0                     9.889648                      5.507324   \n",
       "1                     9.968944                      5.257781   \n",
       "2                    10.213995                      5.383759   \n",
       "3                     9.977019                      4.858634   \n",
       "4                    10.142511                      4.939416   \n",
       "5                    10.049416                      5.480257   \n",
       "6                    10.058141                      4.569100   \n",
       "7                     9.935481                      4.389813   \n",
       "8                    10.071156                      4.876389   \n",
       "9                     9.980404                      5.282514   \n",
       "\n",
       "   final.output.recovery  final.output.tail_ag  final.output.tail_au  \\\n",
       "0              70.541216             10.411962              2.143149   \n",
       "1              69.266198             10.462676              2.224930   \n",
       "2              68.116445             10.507046              2.257889   \n",
       "3              68.347543             10.422762              2.146849   \n",
       "4              66.927016             10.360302              2.055292   \n",
       "5              69.465816             10.182708              1.918586   \n",
       "6              69.300835             10.304598              2.058913   \n",
       "7              70.230976             10.443288              2.143437   \n",
       "8              69.688595             10.420140              2.209881   \n",
       "9              70.279619             10.487013              2.209593   \n",
       "\n",
       "   final.output.tail_pb  final.output.tail_sol  \\\n",
       "0              0.895447              16.904297   \n",
       "1              0.927452              16.634514   \n",
       "2              0.953716              16.208849   \n",
       "3              0.883763              16.532835   \n",
       "4              0.792826              16.525686   \n",
       "5              0.664118              16.999638   \n",
       "6              0.807342              16.723575   \n",
       "7              0.949346              16.689959   \n",
       "8              1.065453              17.201948   \n",
       "9              1.159805              17.483979   \n",
       "\n",
       "   primary_cleaner.output.concentrate_ag  ...  rougher.output.concentrate_sol  \\\n",
       "0                               8.547551  ...                       28.029297   \n",
       "1                               8.558743  ...                       28.067063   \n",
       "2                               8.603505  ...                       27.454037   \n",
       "3                               7.221879  ...                       27.341277   \n",
       "4                               9.089428  ...                       27.041023   \n",
       "5                               9.553724  ...                       26.898046   \n",
       "6                               8.968869  ...                       27.063672   \n",
       "7                               8.545238  ...                       27.231114   \n",
       "8                               8.046686  ...                       27.404296   \n",
       "9                               8.098985  ...                       27.497520   \n",
       "\n",
       "   rougher.output.recovery  rougher.output.tail_ag  rougher.output.tail_au  \\\n",
       "0                87.107763                5.008018                1.170244   \n",
       "1                86.843261                4.955378                1.184827   \n",
       "2                86.842308                4.843460                1.162562   \n",
       "3                87.226430                4.655288                1.079755   \n",
       "4                86.688794                4.552800                1.012642   \n",
       "5                88.156912                4.397415                0.915835   \n",
       "6                88.168065                4.478080                0.986248   \n",
       "7                87.668336                4.728325                1.116110   \n",
       "8                87.035862                4.764300                1.186780   \n",
       "9                87.650868                4.667157                1.167140   \n",
       "\n",
       "   rougher.output.tail_pb  rougher.output.tail_sol  \\\n",
       "0                0.508728                19.154297   \n",
       "1                0.536689                18.965234   \n",
       "2                0.546416                18.808533   \n",
       "3                0.542525                19.330200   \n",
       "4                0.515438                19.267422   \n",
       "5                0.491350                19.640269   \n",
       "6                0.518266                19.262491   \n",
       "7                0.548067                18.861866   \n",
       "8                0.599181                18.873082   \n",
       "9                0.615418                18.907179   \n",
       "\n",
       "   secondary_cleaner.output.tail_ag  secondary_cleaner.output.tail_au  \\\n",
       "0                         14.500184                          2.606185   \n",
       "1                         14.265474                          2.488248   \n",
       "2                         14.115662                          2.458187   \n",
       "3                         13.732071                          2.322062   \n",
       "4                         14.079996                          2.330448   \n",
       "5                         13.615012                          2.192127   \n",
       "6                         13.597056                          2.316720   \n",
       "7                         13.177237                          2.192197   \n",
       "8                         13.487870                          2.212084   \n",
       "9                         13.209191                          2.073737   \n",
       "\n",
       "   secondary_cleaner.output.tail_pb  secondary_cleaner.output.tail_sol  \n",
       "0                          4.694824                           8.764648  \n",
       "1                          4.592547                           9.001494  \n",
       "2                          4.624775                           8.842896  \n",
       "3                          4.482453                           9.122857  \n",
       "4                          4.470737                           8.871028  \n",
       "5                          4.286817                           9.302669  \n",
       "6                          4.487865                           9.103047  \n",
       "7                          4.432448                           9.369209  \n",
       "8                          4.608756                           9.437044  \n",
       "9                          4.550553                           9.813732  \n",
       "\n",
       "[10 rows x 34 columns]"
      ]
     },
     "metadata": {},
     "output_type": "display_data"
    }
   ],
   "source": [
    "# Quick look at data in training dataset\n",
    "display(df_train_raw[diff_cols].head(10))"
   ]
  },
  {
   "cell_type": "markdown",
   "metadata": {},
   "source": [
    "There is nothing unusual about the underlying values and datatypes missing from the test dataframe -- they are all float64 and between 0 and 100 as they represent percentages. \n",
    "\n",
    "### Data Preprocessing -- Check Duplicates, Drop Extraneous Features, Clean Dataframes\n",
    "\n",
    "First, we should check for duplicates in the 'dates' feature, and then the rows at large for the full set."
   ]
  },
  {
   "cell_type": "code",
   "execution_count": 7,
   "metadata": {},
   "outputs": [
    {
     "name": "stdout",
     "output_type": "stream",
     "text": [
      "Number of duplicated entries for 'date': 0\n",
      "Number of duplicate rows: 0\n"
     ]
    }
   ],
   "source": [
    "# Looking only at the full set, check for duplicates in the 'date' feature\n",
    "print(\"Number of duplicated entries for 'date':\", df_full_raw['date'].duplicated().sum())\n",
    "\n",
    "# Looking only at the full set, check for duplicate rows\n",
    "print(\"Number of duplicate rows:\", df_full_raw.duplicated().sum())"
   ]
  },
  {
   "cell_type": "markdown",
   "metadata": {},
   "source": [
    "We should remove the singular extraneous feature from our training set that we do not want our model to be trained on:"
   ]
  },
  {
   "cell_type": "code",
   "execution_count": 8,
   "metadata": {},
   "outputs": [],
   "source": [
    "# Drop the date column\n",
    "df = df_full_raw.drop(['date'], axis=1)\n",
    "df_train = df_train_raw.drop(['date'], axis=1)\n",
    "df_test = df_test.drop(['date'], axis=1)"
   ]
  },
  {
   "cell_type": "markdown",
   "metadata": {},
   "source": [
    "Finally, we need to check for null values and remove entries with null values, as filling with mean or median values is not appropriate with how many target features exist and due to the step-by-step relationship between each step in the extraction process."
   ]
  },
  {
   "cell_type": "code",
   "execution_count": 9,
   "metadata": {
    "scrolled": true
   },
   "outputs": [
    {
     "name": "stdout",
     "output_type": "stream",
     "text": [
      "Number of rows in complete dataframe = 16094.\n"
     ]
    }
   ],
   "source": [
    "# Drop all rows with missing values, resetting index\n",
    "df = df.dropna()\n",
    "df_train = df_train.dropna()\n",
    "df_test_final = df_test.dropna()\n",
    "\n",
    "# Display row count\n",
    "print(f'Number of rows in complete dataframe = {df.shape[0]}.')"
   ]
  },
  {
   "cell_type": "markdown",
   "metadata": {},
   "source": [
    "We dropped a large portion of our dataset -- 6,622 out of our total of 22,716 entries, but every entry has an accurate reading for every feature and step in the extraction process.\n",
    "\n",
    "We will now move on to an analysis step prior to our linear regression.\n",
    "\n",
    "## Analyze the data\n",
    "\n",
    "### Track Mean Metal Concentration by Purification Stage"
   ]
  },
  {
   "cell_type": "code",
   "execution_count": 10,
   "metadata": {
    "scrolled": false
   },
   "outputs": [
    {
     "data": {
      "application/vnd.plotly.v1+json": {
       "config": {
        "plotlyServerURL": "https://plot.ly"
       },
       "data": [
        {
         "alignmentgroup": "True",
         "hovertemplate": "Metal=%{text}<br>Stage=%{x}<br>Average Percentage Concentration=%{y}<extra></extra>",
         "legendgroup": "Gold",
         "marker": {
          "color": "#636efa",
          "pattern": {
           "shape": ""
          }
         },
         "name": "Gold",
         "offsetgroup": "Gold",
         "orientation": "v",
         "showlegend": true,
         "text": [
          "Gold",
          "Gold",
          "Gold"
         ],
         "textposition": "auto",
         "type": "bar",
         "x": [
          "rougher",
          "primary_cleaner",
          "final"
         ],
         "xaxis": "x",
         "y": [
          20.05215197989563,
          32.06555911061983,
          44.30743739837964
         ],
         "yaxis": "y"
        },
        {
         "alignmentgroup": "True",
         "hovertemplate": "Metal=%{text}<br>Stage=%{x}<br>Average Percentage Concentration=%{y}<extra></extra>",
         "legendgroup": "Silver",
         "marker": {
          "color": "#EF553B",
          "pattern": {
           "shape": ""
          }
         },
         "name": "Silver",
         "offsetgroup": "Silver",
         "orientation": "v",
         "showlegend": true,
         "text": [
          "Silver",
          "Silver",
          "Silver"
         ],
         "textposition": "auto",
         "type": "bar",
         "x": [
          "rougher",
          "primary_cleaner",
          "final"
         ],
         "xaxis": "x",
         "y": [
          12.084944858379451,
          8.674852987693988,
          5.190975683404247
         ],
         "yaxis": "y"
        },
        {
         "alignmentgroup": "True",
         "hovertemplate": "Metal=%{text}<br>Stage=%{x}<br>Average Percentage Concentration=%{y}<extra></extra>",
         "legendgroup": "Lead",
         "marker": {
          "color": "#00cc96",
          "pattern": {
           "shape": ""
          }
         },
         "name": "Lead",
         "offsetgroup": "Lead",
         "orientation": "v",
         "showlegend": true,
         "text": [
          "Lead",
          "Lead",
          "Lead"
         ],
         "textposition": "auto",
         "type": "bar",
         "x": [
          "rougher",
          "primary_cleaner",
          "final"
         ],
         "xaxis": "x",
         "y": [
          7.553095191381346,
          9.884018203488715,
          9.997593468101922
         ],
         "yaxis": "y"
        }
       ],
       "layout": {
        "barmode": "relative",
        "legend": {
         "title": {
          "text": "Metal"
         },
         "tracegroupgap": 0
        },
        "template": {
         "data": {
          "bar": [
           {
            "error_x": {
             "color": "#2a3f5f"
            },
            "error_y": {
             "color": "#2a3f5f"
            },
            "marker": {
             "line": {
              "color": "#E5ECF6",
              "width": 0.5
             },
             "pattern": {
              "fillmode": "overlay",
              "size": 10,
              "solidity": 0.2
             }
            },
            "type": "bar"
           }
          ],
          "barpolar": [
           {
            "marker": {
             "line": {
              "color": "#E5ECF6",
              "width": 0.5
             },
             "pattern": {
              "fillmode": "overlay",
              "size": 10,
              "solidity": 0.2
             }
            },
            "type": "barpolar"
           }
          ],
          "carpet": [
           {
            "aaxis": {
             "endlinecolor": "#2a3f5f",
             "gridcolor": "white",
             "linecolor": "white",
             "minorgridcolor": "white",
             "startlinecolor": "#2a3f5f"
            },
            "baxis": {
             "endlinecolor": "#2a3f5f",
             "gridcolor": "white",
             "linecolor": "white",
             "minorgridcolor": "white",
             "startlinecolor": "#2a3f5f"
            },
            "type": "carpet"
           }
          ],
          "choropleth": [
           {
            "colorbar": {
             "outlinewidth": 0,
             "ticks": ""
            },
            "type": "choropleth"
           }
          ],
          "contour": [
           {
            "colorbar": {
             "outlinewidth": 0,
             "ticks": ""
            },
            "colorscale": [
             [
              0,
              "#0d0887"
             ],
             [
              0.1111111111111111,
              "#46039f"
             ],
             [
              0.2222222222222222,
              "#7201a8"
             ],
             [
              0.3333333333333333,
              "#9c179e"
             ],
             [
              0.4444444444444444,
              "#bd3786"
             ],
             [
              0.5555555555555556,
              "#d8576b"
             ],
             [
              0.6666666666666666,
              "#ed7953"
             ],
             [
              0.7777777777777778,
              "#fb9f3a"
             ],
             [
              0.8888888888888888,
              "#fdca26"
             ],
             [
              1,
              "#f0f921"
             ]
            ],
            "type": "contour"
           }
          ],
          "contourcarpet": [
           {
            "colorbar": {
             "outlinewidth": 0,
             "ticks": ""
            },
            "type": "contourcarpet"
           }
          ],
          "heatmap": [
           {
            "colorbar": {
             "outlinewidth": 0,
             "ticks": ""
            },
            "colorscale": [
             [
              0,
              "#0d0887"
             ],
             [
              0.1111111111111111,
              "#46039f"
             ],
             [
              0.2222222222222222,
              "#7201a8"
             ],
             [
              0.3333333333333333,
              "#9c179e"
             ],
             [
              0.4444444444444444,
              "#bd3786"
             ],
             [
              0.5555555555555556,
              "#d8576b"
             ],
             [
              0.6666666666666666,
              "#ed7953"
             ],
             [
              0.7777777777777778,
              "#fb9f3a"
             ],
             [
              0.8888888888888888,
              "#fdca26"
             ],
             [
              1,
              "#f0f921"
             ]
            ],
            "type": "heatmap"
           }
          ],
          "heatmapgl": [
           {
            "colorbar": {
             "outlinewidth": 0,
             "ticks": ""
            },
            "colorscale": [
             [
              0,
              "#0d0887"
             ],
             [
              0.1111111111111111,
              "#46039f"
             ],
             [
              0.2222222222222222,
              "#7201a8"
             ],
             [
              0.3333333333333333,
              "#9c179e"
             ],
             [
              0.4444444444444444,
              "#bd3786"
             ],
             [
              0.5555555555555556,
              "#d8576b"
             ],
             [
              0.6666666666666666,
              "#ed7953"
             ],
             [
              0.7777777777777778,
              "#fb9f3a"
             ],
             [
              0.8888888888888888,
              "#fdca26"
             ],
             [
              1,
              "#f0f921"
             ]
            ],
            "type": "heatmapgl"
           }
          ],
          "histogram": [
           {
            "marker": {
             "pattern": {
              "fillmode": "overlay",
              "size": 10,
              "solidity": 0.2
             }
            },
            "type": "histogram"
           }
          ],
          "histogram2d": [
           {
            "colorbar": {
             "outlinewidth": 0,
             "ticks": ""
            },
            "colorscale": [
             [
              0,
              "#0d0887"
             ],
             [
              0.1111111111111111,
              "#46039f"
             ],
             [
              0.2222222222222222,
              "#7201a8"
             ],
             [
              0.3333333333333333,
              "#9c179e"
             ],
             [
              0.4444444444444444,
              "#bd3786"
             ],
             [
              0.5555555555555556,
              "#d8576b"
             ],
             [
              0.6666666666666666,
              "#ed7953"
             ],
             [
              0.7777777777777778,
              "#fb9f3a"
             ],
             [
              0.8888888888888888,
              "#fdca26"
             ],
             [
              1,
              "#f0f921"
             ]
            ],
            "type": "histogram2d"
           }
          ],
          "histogram2dcontour": [
           {
            "colorbar": {
             "outlinewidth": 0,
             "ticks": ""
            },
            "colorscale": [
             [
              0,
              "#0d0887"
             ],
             [
              0.1111111111111111,
              "#46039f"
             ],
             [
              0.2222222222222222,
              "#7201a8"
             ],
             [
              0.3333333333333333,
              "#9c179e"
             ],
             [
              0.4444444444444444,
              "#bd3786"
             ],
             [
              0.5555555555555556,
              "#d8576b"
             ],
             [
              0.6666666666666666,
              "#ed7953"
             ],
             [
              0.7777777777777778,
              "#fb9f3a"
             ],
             [
              0.8888888888888888,
              "#fdca26"
             ],
             [
              1,
              "#f0f921"
             ]
            ],
            "type": "histogram2dcontour"
           }
          ],
          "mesh3d": [
           {
            "colorbar": {
             "outlinewidth": 0,
             "ticks": ""
            },
            "type": "mesh3d"
           }
          ],
          "parcoords": [
           {
            "line": {
             "colorbar": {
              "outlinewidth": 0,
              "ticks": ""
             }
            },
            "type": "parcoords"
           }
          ],
          "pie": [
           {
            "automargin": true,
            "type": "pie"
           }
          ],
          "scatter": [
           {
            "fillpattern": {
             "fillmode": "overlay",
             "size": 10,
             "solidity": 0.2
            },
            "type": "scatter"
           }
          ],
          "scatter3d": [
           {
            "line": {
             "colorbar": {
              "outlinewidth": 0,
              "ticks": ""
             }
            },
            "marker": {
             "colorbar": {
              "outlinewidth": 0,
              "ticks": ""
             }
            },
            "type": "scatter3d"
           }
          ],
          "scattercarpet": [
           {
            "marker": {
             "colorbar": {
              "outlinewidth": 0,
              "ticks": ""
             }
            },
            "type": "scattercarpet"
           }
          ],
          "scattergeo": [
           {
            "marker": {
             "colorbar": {
              "outlinewidth": 0,
              "ticks": ""
             }
            },
            "type": "scattergeo"
           }
          ],
          "scattergl": [
           {
            "marker": {
             "colorbar": {
              "outlinewidth": 0,
              "ticks": ""
             }
            },
            "type": "scattergl"
           }
          ],
          "scattermapbox": [
           {
            "marker": {
             "colorbar": {
              "outlinewidth": 0,
              "ticks": ""
             }
            },
            "type": "scattermapbox"
           }
          ],
          "scatterpolar": [
           {
            "marker": {
             "colorbar": {
              "outlinewidth": 0,
              "ticks": ""
             }
            },
            "type": "scatterpolar"
           }
          ],
          "scatterpolargl": [
           {
            "marker": {
             "colorbar": {
              "outlinewidth": 0,
              "ticks": ""
             }
            },
            "type": "scatterpolargl"
           }
          ],
          "scatterternary": [
           {
            "marker": {
             "colorbar": {
              "outlinewidth": 0,
              "ticks": ""
             }
            },
            "type": "scatterternary"
           }
          ],
          "surface": [
           {
            "colorbar": {
             "outlinewidth": 0,
             "ticks": ""
            },
            "colorscale": [
             [
              0,
              "#0d0887"
             ],
             [
              0.1111111111111111,
              "#46039f"
             ],
             [
              0.2222222222222222,
              "#7201a8"
             ],
             [
              0.3333333333333333,
              "#9c179e"
             ],
             [
              0.4444444444444444,
              "#bd3786"
             ],
             [
              0.5555555555555556,
              "#d8576b"
             ],
             [
              0.6666666666666666,
              "#ed7953"
             ],
             [
              0.7777777777777778,
              "#fb9f3a"
             ],
             [
              0.8888888888888888,
              "#fdca26"
             ],
             [
              1,
              "#f0f921"
             ]
            ],
            "type": "surface"
           }
          ],
          "table": [
           {
            "cells": {
             "fill": {
              "color": "#EBF0F8"
             },
             "line": {
              "color": "white"
             }
            },
            "header": {
             "fill": {
              "color": "#C8D4E3"
             },
             "line": {
              "color": "white"
             }
            },
            "type": "table"
           }
          ]
         },
         "layout": {
          "annotationdefaults": {
           "arrowcolor": "#2a3f5f",
           "arrowhead": 0,
           "arrowwidth": 1
          },
          "autotypenumbers": "strict",
          "coloraxis": {
           "colorbar": {
            "outlinewidth": 0,
            "ticks": ""
           }
          },
          "colorscale": {
           "diverging": [
            [
             0,
             "#8e0152"
            ],
            [
             0.1,
             "#c51b7d"
            ],
            [
             0.2,
             "#de77ae"
            ],
            [
             0.3,
             "#f1b6da"
            ],
            [
             0.4,
             "#fde0ef"
            ],
            [
             0.5,
             "#f7f7f7"
            ],
            [
             0.6,
             "#e6f5d0"
            ],
            [
             0.7,
             "#b8e186"
            ],
            [
             0.8,
             "#7fbc41"
            ],
            [
             0.9,
             "#4d9221"
            ],
            [
             1,
             "#276419"
            ]
           ],
           "sequential": [
            [
             0,
             "#0d0887"
            ],
            [
             0.1111111111111111,
             "#46039f"
            ],
            [
             0.2222222222222222,
             "#7201a8"
            ],
            [
             0.3333333333333333,
             "#9c179e"
            ],
            [
             0.4444444444444444,
             "#bd3786"
            ],
            [
             0.5555555555555556,
             "#d8576b"
            ],
            [
             0.6666666666666666,
             "#ed7953"
            ],
            [
             0.7777777777777778,
             "#fb9f3a"
            ],
            [
             0.8888888888888888,
             "#fdca26"
            ],
            [
             1,
             "#f0f921"
            ]
           ],
           "sequentialminus": [
            [
             0,
             "#0d0887"
            ],
            [
             0.1111111111111111,
             "#46039f"
            ],
            [
             0.2222222222222222,
             "#7201a8"
            ],
            [
             0.3333333333333333,
             "#9c179e"
            ],
            [
             0.4444444444444444,
             "#bd3786"
            ],
            [
             0.5555555555555556,
             "#d8576b"
            ],
            [
             0.6666666666666666,
             "#ed7953"
            ],
            [
             0.7777777777777778,
             "#fb9f3a"
            ],
            [
             0.8888888888888888,
             "#fdca26"
            ],
            [
             1,
             "#f0f921"
            ]
           ]
          },
          "colorway": [
           "#636efa",
           "#EF553B",
           "#00cc96",
           "#ab63fa",
           "#FFA15A",
           "#19d3f3",
           "#FF6692",
           "#B6E880",
           "#FF97FF",
           "#FECB52"
          ],
          "font": {
           "color": "#2a3f5f"
          },
          "geo": {
           "bgcolor": "white",
           "lakecolor": "white",
           "landcolor": "#E5ECF6",
           "showlakes": true,
           "showland": true,
           "subunitcolor": "white"
          },
          "hoverlabel": {
           "align": "left"
          },
          "hovermode": "closest",
          "mapbox": {
           "style": "light"
          },
          "paper_bgcolor": "white",
          "plot_bgcolor": "#E5ECF6",
          "polar": {
           "angularaxis": {
            "gridcolor": "white",
            "linecolor": "white",
            "ticks": ""
           },
           "bgcolor": "#E5ECF6",
           "radialaxis": {
            "gridcolor": "white",
            "linecolor": "white",
            "ticks": ""
           }
          },
          "scene": {
           "xaxis": {
            "backgroundcolor": "#E5ECF6",
            "gridcolor": "white",
            "gridwidth": 2,
            "linecolor": "white",
            "showbackground": true,
            "ticks": "",
            "zerolinecolor": "white"
           },
           "yaxis": {
            "backgroundcolor": "#E5ECF6",
            "gridcolor": "white",
            "gridwidth": 2,
            "linecolor": "white",
            "showbackground": true,
            "ticks": "",
            "zerolinecolor": "white"
           },
           "zaxis": {
            "backgroundcolor": "#E5ECF6",
            "gridcolor": "white",
            "gridwidth": 2,
            "linecolor": "white",
            "showbackground": true,
            "ticks": "",
            "zerolinecolor": "white"
           }
          },
          "shapedefaults": {
           "line": {
            "color": "#2a3f5f"
           }
          },
          "ternary": {
           "aaxis": {
            "gridcolor": "white",
            "linecolor": "white",
            "ticks": ""
           },
           "baxis": {
            "gridcolor": "white",
            "linecolor": "white",
            "ticks": ""
           },
           "bgcolor": "#E5ECF6",
           "caxis": {
            "gridcolor": "white",
            "linecolor": "white",
            "ticks": ""
           }
          },
          "title": {
           "x": 0.05
          },
          "xaxis": {
           "automargin": true,
           "gridcolor": "white",
           "linecolor": "white",
           "ticks": "",
           "title": {
            "standoff": 15
           },
           "zerolinecolor": "white",
           "zerolinewidth": 2
          },
          "yaxis": {
           "automargin": true,
           "gridcolor": "white",
           "linecolor": "white",
           "ticks": "",
           "title": {
            "standoff": 15
           },
           "zerolinecolor": "white",
           "zerolinewidth": 2
          }
         }
        },
        "title": {
         "text": "Average Metal Concentration By Purification Stage"
        },
        "xaxis": {
         "anchor": "y",
         "domain": [
          0,
          1
         ],
         "title": {
          "text": "Stage"
         }
        },
        "yaxis": {
         "anchor": "x",
         "domain": [
          0,
          1
         ],
         "title": {
          "text": "Average Percentage Concentration"
         }
        }
       }
      }
     },
     "metadata": {},
     "output_type": "display_data"
    }
   ],
   "source": [
    "# Each stage's metal output concentration can be found in the below features:\n",
    "#     [stage].output.concentrate_au\n",
    "#     [stage].output.concentrate_ag\n",
    "#     [stage].output.concentrate_pb\n",
    "stage_names = ['rougher', 'primary_cleaner', 'final'] # There is no concentrate data for the secondary_cleaner stage\n",
    "metal_names = ['Gold', 'Silver', 'Lead']\n",
    "feature_term = ['.output.concentrate_au', '.output.concentrate_ag', '.output.concentrate_pb']\n",
    "\n",
    "# Aggregate data in long form for sake of bar graph analysis\n",
    "metal_data = []\n",
    "for i in range(len(stage_names)):\n",
    "    for j in range(len(metal_names)):\n",
    "        col_name = stage_names[i] + feature_term[j]\n",
    "        metal_data.append([stage_names[i], metal_names[j], df[col_name].mean()])\n",
    "        \n",
    "# Create new dataframe for tracking mean metal concentration changes \n",
    "metal_columns = ['stage', 'metal', 'mean_concentration']\n",
    "df_metals = pd.DataFrame(data=metal_data, columns=metal_columns)\n",
    "\n",
    "# First plot is a bar graph tracking three metal concentrations by stage\n",
    "fig1 = px.bar(df_metals, x='stage', y='mean_concentration', \n",
    "            labels={'stage': 'Stage', 'metal': 'Metal', 'mean_concentration': 'Average Percentage Concentration'},\n",
    "            color='metal', \n",
    "            text='metal',\n",
    "            title='Average Metal Concentration By Purification Stage')\n",
    "fig1.show()"
   ]
  },
  {
   "cell_type": "markdown",
   "metadata": {},
   "source": [
    "As expected, the Gold concentration increases from 20% in the roughest feed to 50% after the final filtration stage. What is surprising is that Lead increases in average concentration. This indicates that as material is stripped away at each stage, the amount of lead removed is lower than other components, leaving the concentration of remaining lead to increase in some samples. Silver, on the other hand, is effectively stripped away, being reduced from an average concentration of 12.08% to 5.19%.\n",
    "\n",
    "### Validate the Feed Particle Size Between Train and Test Sets\n",
    "\n",
    "The concentrations are simply percentages of the material being worked with. The chemical and mechanical processes involved in purification will yield different changes between the purification stages dependent on the quantity of material passed through -- the feed particle size. Therefore, we must validate that the distributions of feed particle size are similar in the train and test sets."
   ]
  },
  {
   "cell_type": "code",
   "execution_count": 11,
   "metadata": {
    "scrolled": false
   },
   "outputs": [
    {
     "data": {
      "image/png": "[encoded data removed]",
      "text/plain": [
       "<Figure size 1600x800 with 4 Axes>"
      ]
     },
     "metadata": {},
     "output_type": "display_data"
    },
    {
     "name": "stdout",
     "output_type": "stream",
     "text": [
      "P value for rougher feed distribution equals 2.827914509738783e-14.\n",
      "We can reject the null hypothesis for rougher feed distribution.\n",
      "P value for primary cleaner feed distribution equals 0.0004916543727368148.\n",
      "We can reject the null hypothesis for primary cleaner feed distribution.\n"
     ]
    }
   ],
   "source": [
    "# The below dataframe is for graphing purposes only and is not meant to represent meaningful row-wise data\n",
    "df_train_vs_test = pd.DataFrame({'train_rougher_feed': df_train_raw['rougher.input.feed_size'],\n",
    "                                 'test_rougher_feed': df_test_raw['rougher.input.feed_size'],\n",
    "                                 'train_primary_feed': df_train_raw['primary_cleaner.input.feed_size'],\n",
    "                                 'test_primary_feed': df_test_raw['primary_cleaner.input.feed_size']})\n",
    "\n",
    "# Compare feed particle size\n",
    "fig, axs = plt.subplots(2, 2, figsize=(16,8))\n",
    "axs[0, 0].clear()\n",
    "df_train_vs_test[['train_rougher_feed', 'test_rougher_feed']].plot(kind='box', ax=axs[0, 0], showfliers=False)\n",
    "axs[0, 0].set_title('Rougher Feed Comparison')\n",
    "axs[0, 0].set_ylabel('Feed Particle Size')\n",
    "\n",
    "axs[0, 1].clear()\n",
    "df_train_vs_test['train_rougher_feed'].plot(kind='hist', ax=axs[0, 1], bins=60)\n",
    "df_train_vs_test['test_rougher_feed'].plot(kind='hist', ax=axs[0, 1], bins=60, alpha=0.6)\n",
    "axs[0, 1].set_title('Rougher Feed Distribution')\n",
    "axs[0, 1].set_xlabel('Feed Particle Size')\n",
    "axs[0, 1].legend(['Train Set', 'Test Set'])\n",
    "\n",
    "axs[1, 0].clear()\n",
    "df_train_vs_test[['train_primary_feed', 'test_primary_feed']].plot(kind='box', ax=axs[1, 0], showfliers=False)\n",
    "axs[1, 0].set_title('Primary Cleaner Feed Comparison')\n",
    "axs[1, 0].set_ylabel('Feed Particle Size')\n",
    "\n",
    "axs[1, 1].clear()\n",
    "df_train_vs_test['train_primary_feed'].plot(kind='hist', ax=axs[1, 1], bins=60)\n",
    "df_train_vs_test['test_primary_feed'].plot(kind='hist', ax=axs[1, 1], bins=60, alpha=0.6)\n",
    "axs[1, 1].set_title('Primary Cleaner Feed Distribution')\n",
    "axs[1, 1].set_xlabel('Feed Particle Size')\n",
    "axs[1, 1].legend(['Train Set', 'Test Set'])\n",
    "plt.show()\n",
    "\n",
    "''' \n",
    "For thoroughness, do a one-sided t-test for comparison of means with the below hypotheses:\n",
    "\n",
    "     Ho = \"The rougher feed distribution mean for the training set is not significantly different than the test set mean\"\n",
    "     Ha = \"The rougher feed distribution mean for the training set is significantly different than the test set mean\"\n",
    "\n",
    "     Ho = \"The primary cleaner feed distribution mean for the training set is not significantly different than the test set mean\"\n",
    "     Ha = \"The primary cleaner feed distribution mean for the training set is significantly different than the test set mean\"\n",
    "     \n",
    "Test the hypotheses under strict critical significance\n",
    "'''\n",
    "alpha = 0.01\n",
    "rougher_results = st.ttest_ind(df_train_vs_test['train_rougher_feed'], \n",
    "                               df_train_vs_test['test_rougher_feed'],\n",
    "                               equal_var=True,\n",
    "                               nan_policy='omit')\n",
    "primary_results = st.ttest_ind(df_train_vs_test['train_primary_feed'], \n",
    "                               df_train_vs_test['test_primary_feed'], \n",
    "                               equal_var=True,\n",
    "                               nan_policy='omit')\n",
    "\n",
    "# Print\n",
    "print(f\"P value for rougher feed distribution equals {rougher_results.pvalue}.\")\n",
    "if (rougher_results.pvalue < alpha):\n",
    "    print('We can reject the null hypothesis for rougher feed distribution.')\n",
    "else:\n",
    "    print('We cannot reject the null hypothesis for rougher feed distribution.')\n",
    "    \n",
    "print(f\"P value for primary cleaner feed distribution equals {primary_results.pvalue}.\")\n",
    "if (primary_results.pvalue < alpha):\n",
    "    print('We can reject the null hypothesis for primary cleaner feed distribution.')\n",
    "else:\n",
    "    print('We cannot reject the null hypothesis for primary cleaner feed distribution.')"
   ]
  },
  {
   "cell_type": "markdown",
   "metadata": {},
   "source": [
    "While the distributions for the feed particle sizes appear equivalent, their population means are significantly different. While any difference should be suspect given the first graph for each dataset, we will assuage any concern by utilizing cross-validation to create multiple balanced test and training sets.\n",
    "\n",
    "Our final check is to look at the total concentrations of all substances and consider anomalies before moving on to model training.\n",
    "\n",
    "### Validate Total Substance Concentrations\n",
    "\n",
    "#### Determine Total Concentrations for Each Data Sample"
   ]
  },
  {
   "cell_type": "code",
   "execution_count": 12,
   "metadata": {},
   "outputs": [
    {
     "data": {
      "text/plain": [
       "<matplotlib.legend.Legend at 0x1ba0684a490>"
      ]
     },
     "execution_count": 12,
     "metadata": {},
     "output_type": "execute_result"
    },
    {
     "data": {
      "image/png": "[encoded data removed]",
      "text/plain": [
       "<Figure size 1600x800 with 2 Axes>"
      ]
     },
     "metadata": {},
     "output_type": "display_data"
    }
   ],
   "source": [
    "## RAW FEED CONCENTRATION FEATURE NAMES\n",
    "# Gold     :   rougher.input.feed_au  \n",
    "# Silver   :   rougher.input.feed_ag \n",
    "# Solution :   rougher.input.feed_sol\n",
    "# Lead     :   rougher.input.feed_pb\n",
    "\n",
    "## ROUGHER CONCENTRATION FEATURE NAMES\n",
    "# Gold     :   rougher.output.concentrate_au  \n",
    "# Silver   :   rougher.output.concentrate_ag \n",
    "# Solution :   rougher.output.concentrate_sol\n",
    "# Lead     :   rougher.output.concentrate_pb\n",
    "\n",
    "## FINAL CONCENTRATE FEATURE NAMES\n",
    "# Gold     :   final.output.concentrate_au  \n",
    "# Silver   :   final.output.concentrate_ag \n",
    "# Solution :   final.output.concentrate_sol\n",
    "# Lead     :   final.output.concentrate_pb\n",
    "\n",
    "substance_feature_names = ['gold', 'silver', 'solution', 'lead']\n",
    "substance_display_names = ['Gold', 'Silver', 'Solution', 'Lead']\n",
    "raw_feed_feature_names = ['rougher.input.feed_au', 'rougher.input.feed_ag', 'rougher.input.feed_sol', 'rougher.input.feed_pb']\n",
    "rougher_feature_names = ['rougher.output.concentrate_au', 'rougher.output.concentrate_ag', 'rougher.output.concentrate_sol', 'rougher.output.concentrate_pb']\n",
    "final_feature_names = ['final.output.concentrate_au', 'final.output.concentrate_ag', 'final.output.concentrate_sol', 'final.output.concentrate_pb']\n",
    "\n",
    "# Helper function for renaming columns based on the above feature arrays. This is not necessary but is the safest practice.\n",
    "def arrays_to_dict(array_1, array_2):\n",
    "    return_dict = {}\n",
    "    for key, val in zip(array_1, array_2):\n",
    "        return_dict.setdefault(key, []).append(val)\n",
    "    return return_dict\n",
    "\n",
    "# Create the three dataframes for storing the above data\n",
    "df_raw_feed_concentrations = df[raw_feed_feature_names].rename(arrays_to_dict(raw_feed_feature_names, substance_feature_names))\n",
    "df_rougher_concentrations = df[rougher_feature_names].rename(arrays_to_dict(rougher_feature_names, substance_feature_names))\n",
    "df_final_concentrations = df[final_feature_names].rename(arrays_to_dict(final_feature_names, substance_feature_names))\n",
    "\n",
    "# Create new feature representing total concentration that simply sums all other columns\n",
    "df_raw_feed_concentrations['total'] = df_raw_feed_concentrations.apply(sum, axis=1)\n",
    "df_rougher_concentrations['total'] = df_rougher_concentrations.apply(sum, axis=1)\n",
    "df_final_concentrations['total'] = df_final_concentrations.apply(sum, axis=1)\n",
    "\n",
    "# Create new dataframe for graphing purposes comparing new feature created above between all three stages\n",
    "df_total_concentrations = pd.concat([df_raw_feed_concentrations['total'], \n",
    "                                     df_rougher_concentrations['total'],\n",
    "                                     df_final_concentrations['total']], axis='columns')\n",
    "df_total_concentrations.columns = ['raw_feed', 'rougher', 'final']\n",
    "\n",
    "# Graph distributions of the above\n",
    "fig, axs = plt.subplots(1, 2, figsize=(16,8))\n",
    "axs[0].clear()\n",
    "df_total_concentrations.plot(kind='box', ax=axs[0], showfliers=False)\n",
    "axs[0].set_title('Total Concentrations Comparison by Stage')\n",
    "axs[0].set_ylabel('Sum of All Substance Concentrations')\n",
    "\n",
    "axs[1].clear()\n",
    "df_total_concentrations['raw_feed'].plot(kind='hist', ax=axs[1], bins=50)\n",
    "df_total_concentrations['rougher'].plot(kind='hist', ax=axs[1], bins=50, alpha=0.4)\n",
    "df_total_concentrations['final'].plot(kind='hist', ax=axs[1], bins=50, alpha=0.4)\n",
    "axs[1].set_title('Total Substance Concentration Distribution Across Stages')\n",
    "axs[1].set_xlabel('Sum of All Substance Concentrations')\n",
    "axs[1].legend(['Raw Feed', 'Rougher', 'Final'])"
   ]
  },
  {
   "cell_type": "markdown",
   "metadata": {},
   "source": [
    "We have some dangerous outliers around the 0 mark. We should assert that if a total distribution is lower than a certain low value, we drop the data entry. We should drop those entries and save the result to a new, final dataframe to pass to our models."
   ]
  },
  {
   "cell_type": "code",
   "execution_count": 13,
   "metadata": {},
   "outputs": [
    {
     "name": "stdout",
     "output_type": "stream",
     "text": [
      "Removed 239 rows out of 11017 rows from the training dataframe.\n",
      "Removed 347 rows out of 16094 rows from the main dataframe.\n"
     ]
    }
   ],
   "source": [
    "# We must remove entries with such low total substance concentrations from two of our main dataframes (df_train, df)\n",
    "\n",
    "th = 5 # This will preserve entries with total concentrations at every stage equal to or above this number\n",
    "\n",
    "# We will create new dataframes to filter the training set, just as we've done above for the main dataset\n",
    "# Create the three dataframes for storing the above data\n",
    "df_train_raw_feed_concentrations = df_train[raw_feed_feature_names].rename(arrays_to_dict(raw_feed_feature_names, substance_feature_names))\n",
    "df_train_rougher_concentrations = df_train[rougher_feature_names].rename(arrays_to_dict(rougher_feature_names, substance_feature_names))\n",
    "df_train_final_concentrations = df_train[final_feature_names].rename(arrays_to_dict(final_feature_names, substance_feature_names))\n",
    "\n",
    "# Create new feature representing total concentration that simply sums all other columns\n",
    "df_train_raw_feed_concentrations['total'] = df_train_raw_feed_concentrations.apply(sum, axis=1)\n",
    "df_train_rougher_concentrations['total'] = df_train_rougher_concentrations.apply(sum, axis=1)\n",
    "df_train_final_concentrations['total'] = df_train_final_concentrations.apply(sum, axis=1)\n",
    "\n",
    "# The indices of the concentration data points (rows of the above dataframes) are in the same order \n",
    "#   as the original dataframe after a concatenation. It is safest to do a logical operation instead of \n",
    "#   an index-based or query-based operation to filter the original dataframe.\n",
    "\n",
    "df_train_filter_boolean = (df_train_raw_feed_concentrations['total'] >= th) & (\n",
    "                    df_train_rougher_concentrations['total'] >= th) & (\n",
    "                    df_train_final_concentrations['total'] >= th)\n",
    "df_train_final = df_train[df_train_filter_boolean]\n",
    "print(f'Removed {(~df_train_filter_boolean).sum()} rows out of {df_train.shape[0]} rows from the training dataframe.')\n",
    "\n",
    "df_filter_boolean = (df_raw_feed_concentrations['total'] >= th) & (\n",
    "                    df_rougher_concentrations['total'] >= th) & (\n",
    "                    df_final_concentrations['total'] >= th)\n",
    "df_final = df[df_filter_boolean]\n",
    "print(f'Removed {(~df_filter_boolean).sum()} rows out of {df.shape[0]} rows from the main dataframe.')"
   ]
  },
  {
   "cell_type": "markdown",
   "metadata": {},
   "source": [
    "## Build the Model\n",
    "\n",
    "### Calculating final sMAPE value\n",
    "\n",
    "The sMAPE value is the symmetric Mean Absolute Percentage Error. The below sMAPE function takes the absolute difference of each real observation and model prediction and divides that by the absolute mean of those two values. It then represents that as a percentage and takes the mean across all observations.\n",
    "\n",
    "Our final sMAPE is a combination of the sMAPE observed for the rougher concentration recovery and the sMAPE observed for the final concentration recovery, weighted at .25 and .75 respectively."
   ]
  },
  {
   "cell_type": "code",
   "execution_count": 14,
   "metadata": {},
   "outputs": [],
   "source": [
    "'''\n",
    "sMAPE FORMULA as FUNCTION:\n",
    "\n",
    "                        | y - ŷ |\n",
    "    sMAPE = MEAN ( ---------------------  x 100%  )\n",
    "                   ( | y | - | ŷ | ) / 2\n",
    "'''\n",
    "\n",
    "def smape(target, prediction):\n",
    "    accum_array = []\n",
    "    for i in range(0, len(target)):\n",
    "        accum_array.append(100 * abs(target[i] - prediction[i]) / ((abs(target[i]) + abs(prediction[i])) / 2))\n",
    "    return pd.Series(accum_array).mean()\n",
    "\n",
    "def final_smape(target_rougher, prediction_rougher, target_final, prediction_final):\n",
    "    return .25 * smape(target_rougher, prediction_rougher) + .75 * smape(target_final, prediction_final)"
   ]
  },
  {
   "cell_type": "markdown",
   "metadata": {},
   "source": [
    "### Training and Evaluating the Models\n",
    "\n",
    "#### Identify Features and Target for Training"
   ]
  },
  {
   "cell_type": "code",
   "execution_count": 15,
   "metadata": {},
   "outputs": [],
   "source": [
    "# We will be cross-validating using the training dataset.\n",
    "# We save the test dataset to evaluate our best model in the final step below.\n",
    "target_features = ['rougher.output.recovery', 'final.output.recovery']\n",
    "features = df_train_final.drop(diff_cols, axis=1) # This drops the features not included in the test set to avoid training the model on data it won't be tested on\n",
    "target_rougher = df_train_final[target_features[0]]\n",
    "target_final = df_train_final[target_features[1]]\n",
    "\n",
    "# Prepare the test features and target for our final evaluation step\n",
    "test_features = df_test_final.drop(target_features, axis=1)\n",
    "target_test_rougher = df_test_final[target_features[0]]\n",
    "target_test_final = df_test_final[target_features[1]]"
   ]
  },
  {
   "cell_type": "markdown",
   "metadata": {},
   "source": [
    "#### Build and Train Models Using Cross-validation"
   ]
  },
  {
   "cell_type": "code",
   "execution_count": 16,
   "metadata": {},
   "outputs": [],
   "source": [
    "# We are considering a sample size of about 1/5 of the set\n",
    "sample_size = int(len(features)/5)\n",
    "best_rougher_model = []\n",
    "best_final_model = []\n",
    "best_sMAPE = 999999\n",
    "\n",
    "for i in range(0, len(features), sample_size):\n",
    "    # Find a sample index location and split index list around that location, then split data\n",
    "    sample_index = math.floor(i+sample_size)\n",
    "    if sample_index >= len(features):\n",
    "        break\n",
    "    valid_indexes = list(range(i,sample_index))\n",
    "    train_indexes = list(range(0, i)) + list(range((sample_index), len(features)))\n",
    "    features_train = features.iloc[train_indexes]\n",
    "    features_valid = features.iloc[valid_indexes]\n",
    "    target_rougher_train = target_rougher.iloc[train_indexes]\n",
    "    target_rougher_valid = target_rougher.iloc[valid_indexes]\n",
    "    target_final_train = target_final.iloc[train_indexes]\n",
    "    target_final_valid = target_final.iloc[valid_indexes]\n",
    "    \n",
    "    # One model to predict rougher concentrate recovery ('rougher.output.recovery')\n",
    "    rougher_model = LinearRegression()\n",
    "    rougher_model = rougher_model.fit(features_train, target_rougher_train)\n",
    "    rougher_predictions = rougher_model.predict(features_valid)\n",
    "    \n",
    "    # One model to predict final concentrate recovery ('final.output.recovery')\n",
    "    final_model = LinearRegression()\n",
    "    final_model = final_model.fit(features_train, target_final_train)\n",
    "    final_predictions = final_model.predict(features_valid)\n",
    "    \n",
    "    # Calculate final sMAPE\n",
    "    sMAPE = final_smape(target_rougher_valid.to_list(), rougher_predictions, target_final_valid.to_list(), final_predictions)\n",
    "    \n",
    "    # Save best model\n",
    "    if sMAPE < best_sMAPE:\n",
    "        best_rougher_model = rougher_model\n",
    "        best_final_model = final_model"
   ]
  },
  {
   "cell_type": "markdown",
   "metadata": {},
   "source": [
    "#### Evaluate Models + Visualize Tests and Predictions"
   ]
  },
  {
   "cell_type": "code",
   "execution_count": 17,
   "metadata": {},
   "outputs": [
    {
     "name": "stdout",
     "output_type": "stream",
     "text": [
      "Best-performing model had a final sMAPE of 9.135555321155797.\n",
      "True final recovery averages around 68.65760229535077, while the true rougher recovery averages around 85.1322324065655\n"
     ]
    },
    {
     "data": {
      "image/png": "[encoded data removed]",
      "text/plain": [
       "<Figure size 1600x800 with 4 Axes>"
      ]
     },
     "metadata": {},
     "output_type": "display_data"
    }
   ],
   "source": [
    "# Make predictions based on test dataset\n",
    "rougher_predict = best_rougher_model.predict(test_features)\n",
    "final_predict = best_final_model.predict(test_features)\n",
    "best_final_sMAPE = final_smape(target_test_rougher.to_list(), rougher_predict, target_test_final.to_list(), final_predict)\n",
    "print(f'Best-performing model had a final sMAPE of {best_final_sMAPE}.')\n",
    "\n",
    "# Dataframe for graphing combining all targets and predictions\n",
    "df_recovery = pd.DataFrame({'rougher_actual': target_test_rougher.to_list(),\n",
    "                            'rougher_predict': rougher_predict,\n",
    "                            'final_actual': target_test_final.to_list(),\n",
    "                            'final_predict': final_predict})\n",
    "rougher_actual_mean = df_recovery['rougher_actual'].mean()\n",
    "final_actual_mean = df_recovery['final_actual'].mean()\n",
    "print(f'True final recovery averages around {final_actual_mean}, while the true rougher recovery averages around {rougher_actual_mean}')\n",
    "\n",
    "# Compare predictions for recovery\n",
    "fig, axs = plt.subplots(2, 2, figsize=(16,8))\n",
    "axs[0, 0].clear()\n",
    "df_recovery[['rougher_actual', 'rougher_predict']].plot(kind='box', ax=axs[0, 0], showfliers=False)\n",
    "axs[0, 0].set_title('Rougher Recovery -- Actual vs. Predicted')\n",
    "axs[0, 0].set_ylabel('Recovery Value (%)')\n",
    "\n",
    "axs[0, 1].clear()\n",
    "df_recovery['rougher_actual'].plot(kind='hist', ax=axs[0, 1], bins=50)\n",
    "df_recovery['rougher_predict'].plot(kind='hist', ax=axs[0, 1], bins=50, alpha=0.6)\n",
    "axs[0, 1].set_title('Rougher Recovery Distribution')\n",
    "axs[0, 1].set_xlabel('Recovery Value (%)')\n",
    "axs[0, 1].legend(['Actual', 'Model Prediction'])\n",
    "\n",
    "axs[1, 0].clear()\n",
    "df_recovery[['final_actual', 'final_predict']].plot(kind='box', ax=axs[1, 0], showfliers=False)\n",
    "axs[1, 0].set_title('Final Recovery -- Actual vs. Predicted')\n",
    "axs[1, 0].set_ylabel('Recovery Value (%)')\n",
    "\n",
    "axs[1, 1].clear()\n",
    "df_recovery['final_actual'].plot(kind='hist', ax=axs[1, 1], bins=50)\n",
    "df_recovery['final_predict'].plot(kind='hist', ax=axs[1, 1], bins=50, alpha=0.6)\n",
    "axs[1, 1].set_title('Final Recovery Distribution')\n",
    "axs[1, 1].set_xlabel('Recovery Value (%)')\n",
    "axs[1, 1].legend(['Actual', 'Model Prediction'])\n",
    "plt.show()"
   ]
  },
  {
   "cell_type": "markdown",
   "metadata": {},
   "source": [
    "The final recovery is distributed at about 16.5% lower than the rougher recovery, but both are roughly bell-shaped around their means. The models were able to predict this difference and keep the final sMAPE in the single-digits.\n",
    "\n",
    "It is worth noting that the model predicting the rougher recovery had a small percentage of predictions above 100, which is invalid for a percentage data type. That model also had a slightly more right-skewed distribution. Clearly, there were certain features in the model's calculation which were over-weighted and skewed recovery higher than it should have been.\n",
    "\n",
    "# Conclusion\n",
    "\n",
    "In our above analysis we read three dataframes regarding tens of thousands of sample points in a gold recovery process, representing nearly 80 measurements at various stages in the filtration. \n",
    "\n",
    "After cleaning the data, we analyzed how metal concentrations changed depending on the purification stage and found: (1) lead concentration does not lower and often even increases (relative to lower total particle counts); (2) silver concentration consistently lowers; (3) gold concentration more than doubles by the end of the process. We validated first that the feed particle size distributions are equivalent between the training and test sets, and second that the total substance concentration was statistically valid, removing near-zero concentrations.\n",
    "\n",
    "Finally, we built some models to predict rougher recovery (a measure of gold recovery early in the process) and final recovery (the same measure at the end of the process). Our final evaluation showed that the distributions were equivalent and the models could distinguish rougher recovery from final recovery."
   ]
  }
 ],
 "metadata": {
  "ExecuteTimeLog": [
   {
    "duration": 5139,
    "start_time": "2024-06-10T23:17:11.881Z"
   },
   {
    "duration": 1093,
    "start_time": "2024-06-10T23:17:18.679Z"
   },
   {
    "duration": 11,
    "start_time": "2024-06-10T23:52:24.982Z"
   },
   {
    "duration": 963,
    "start_time": "2024-06-10T23:52:33.629Z"
   },
   {
    "duration": 101,
    "start_time": "2024-06-10T23:57:30.563Z"
   },
   {
    "duration": 8,
    "start_time": "2024-06-11T00:02:28.369Z"
   },
   {
    "duration": 9,
    "start_time": "2024-06-11T00:02:40.050Z"
   },
   {
    "duration": 265,
    "start_time": "2024-06-11T00:03:24.948Z"
   },
   {
    "duration": 38,
    "start_time": "2024-06-11T00:07:41.043Z"
   },
   {
    "duration": 26,
    "start_time": "2024-06-11T00:08:03.828Z"
   },
   {
    "duration": 29,
    "start_time": "2024-06-11T00:10:30.963Z"
   },
   {
    "duration": 40,
    "start_time": "2024-06-11T00:11:56.133Z"
   },
   {
    "duration": 23,
    "start_time": "2024-06-11T00:12:21.907Z"
   },
   {
    "duration": 22,
    "start_time": "2024-06-11T00:13:41.422Z"
   },
   {
    "duration": 7,
    "start_time": "2024-06-11T00:30:37.183Z"
   },
   {
    "duration": 7,
    "start_time": "2024-06-11T00:31:02.296Z"
   },
   {
    "duration": 9,
    "start_time": "2024-06-11T00:31:12.411Z"
   },
   {
    "duration": 20,
    "start_time": "2024-06-11T00:32:54.029Z"
   },
   {
    "duration": 7,
    "start_time": "2024-06-11T01:46:28.098Z"
   },
   {
    "duration": 23,
    "start_time": "2024-06-11T01:46:33.329Z"
   },
   {
    "duration": 9,
    "start_time": "2024-06-11T01:46:38.133Z"
   },
   {
    "duration": 34,
    "start_time": "2024-06-11T01:46:40.511Z"
   },
   {
    "duration": 4949,
    "start_time": "2024-06-21T00:27:16.189Z"
   },
   {
    "duration": 1093,
    "start_time": "2024-06-21T00:27:21.142Z"
   },
   {
    "duration": 24,
    "start_time": "2024-06-21T00:27:22.240Z"
   },
   {
    "duration": 12,
    "start_time": "2024-06-21T00:27:22.267Z"
   },
   {
    "duration": 33,
    "start_time": "2024-06-21T00:27:28.591Z"
   },
   {
    "duration": 8,
    "start_time": "2024-06-21T00:50:22.534Z"
   },
   {
    "duration": 7,
    "start_time": "2024-06-21T00:51:05.576Z"
   },
   {
    "duration": 152,
    "start_time": "2024-06-21T00:52:12.644Z"
   },
   {
    "duration": 147,
    "start_time": "2024-06-21T00:52:19.274Z"
   },
   {
    "duration": 10,
    "start_time": "2024-06-21T00:54:12.028Z"
   },
   {
    "duration": 402,
    "start_time": "2024-06-21T01:35:45.208Z"
   },
   {
    "duration": 14,
    "start_time": "2024-06-21T01:36:04.472Z"
   },
   {
    "duration": 19,
    "start_time": "2024-06-21T01:36:23.641Z"
   },
   {
    "duration": 127,
    "start_time": "2024-06-21T01:40:48.634Z"
   },
   {
    "duration": 11,
    "start_time": "2024-06-21T02:08:42.812Z"
   },
   {
    "duration": 50,
    "start_time": "2024-06-21T02:09:25.772Z"
   },
   {
    "duration": 35,
    "start_time": "2024-06-21T02:09:35.327Z"
   },
   {
    "duration": 38,
    "start_time": "2024-06-21T02:10:50.189Z"
   },
   {
    "duration": 39,
    "start_time": "2024-06-21T02:11:41.434Z"
   },
   {
    "duration": 894,
    "start_time": "2024-06-21T02:11:50.168Z"
   },
   {
    "duration": 387,
    "start_time": "2024-06-21T02:13:00.024Z"
   },
   {
    "duration": 535,
    "start_time": "2024-06-21T02:13:52.275Z"
   },
   {
    "duration": 392,
    "start_time": "2024-06-21T02:32:14.410Z"
   },
   {
    "duration": 589,
    "start_time": "2024-06-21T02:32:54.066Z"
   },
   {
    "duration": 577,
    "start_time": "2024-06-21T02:34:17.154Z"
   },
   {
    "duration": 496,
    "start_time": "2024-06-21T02:34:57.759Z"
   },
   {
    "duration": 394,
    "start_time": "2024-06-21T02:36:44.790Z"
   },
   {
    "duration": 582,
    "start_time": "2024-06-21T02:36:54.174Z"
   },
   {
    "duration": 543,
    "start_time": "2024-06-21T02:38:04.145Z"
   },
   {
    "duration": 860,
    "start_time": "2024-06-21T02:38:26.983Z"
   },
   {
    "duration": 793,
    "start_time": "2024-06-21T02:46:28.068Z"
   },
   {
    "duration": 617,
    "start_time": "2024-06-21T02:46:39.541Z"
   },
   {
    "duration": 711,
    "start_time": "2024-06-21T02:52:01.520Z"
   },
   {
    "duration": 758,
    "start_time": "2024-06-21T02:52:54.367Z"
   },
   {
    "duration": 854,
    "start_time": "2024-06-21T02:53:15.232Z"
   },
   {
    "duration": 878,
    "start_time": "2024-06-21T03:31:22.839Z"
   },
   {
    "duration": 1359,
    "start_time": "2024-06-21T03:31:51.867Z"
   },
   {
    "duration": 1266,
    "start_time": "2024-06-21T03:32:07.835Z"
   },
   {
    "duration": 1098,
    "start_time": "2024-06-21T03:33:13.339Z"
   },
   {
    "duration": 1211,
    "start_time": "2024-06-21T03:33:48.973Z"
   },
   {
    "duration": 617,
    "start_time": "2024-06-21T03:37:27.165Z"
   },
   {
    "duration": 1778,
    "start_time": "2024-06-21T03:39:28.105Z"
   },
   {
    "duration": 6050,
    "start_time": "2024-06-25T20:30:26.183Z"
   },
   {
    "duration": 1317,
    "start_time": "2024-06-25T20:30:32.240Z"
   },
   {
    "duration": 57,
    "start_time": "2024-06-25T20:30:33.560Z"
   },
   {
    "duration": 38,
    "start_time": "2024-06-25T20:30:33.624Z"
   },
   {
    "duration": 49,
    "start_time": "2024-06-25T20:30:33.668Z"
   },
   {
    "duration": 214,
    "start_time": "2024-06-25T20:30:33.721Z"
   },
   {
    "duration": 14,
    "start_time": "2024-06-25T20:30:33.944Z"
   },
   {
    "duration": 33,
    "start_time": "2024-06-25T20:30:33.965Z"
   },
   {
    "duration": 706,
    "start_time": "2024-06-25T20:30:34.008Z"
   },
   {
    "duration": 1613,
    "start_time": "2024-06-25T20:30:34.717Z"
   },
   {
    "duration": 8,
    "start_time": "2024-06-25T20:30:36.333Z"
   },
   {
    "duration": 7,
    "start_time": "2024-06-25T20:30:36.345Z"
   },
   {
    "duration": 1613,
    "start_time": "2024-06-25T20:51:05.134Z"
   },
   {
    "duration": 1469,
    "start_time": "2024-06-25T20:52:37.974Z"
   },
   {
    "duration": 1737,
    "start_time": "2024-06-25T20:55:12.198Z"
   },
   {
    "duration": 1568,
    "start_time": "2024-06-25T21:35:53.857Z"
   },
   {
    "duration": 1448,
    "start_time": "2024-06-25T21:40:45.455Z"
   },
   {
    "duration": 9,
    "start_time": "2024-06-25T21:50:31.809Z"
   },
   {
    "duration": 8,
    "start_time": "2024-06-25T21:50:49.554Z"
   },
   {
    "duration": 13,
    "start_time": "2024-06-25T21:52:23.326Z"
   },
   {
    "duration": 31,
    "start_time": "2024-06-25T21:52:53.579Z"
   },
   {
    "duration": 11,
    "start_time": "2024-06-25T21:53:24.937Z"
   },
   {
    "duration": 11,
    "start_time": "2024-06-25T21:53:33.705Z"
   },
   {
    "duration": 1161,
    "start_time": "2024-06-25T22:32:21.265Z"
   },
   {
    "duration": 1537,
    "start_time": "2024-06-25T22:32:26.947Z"
   },
   {
    "duration": 1035,
    "start_time": "2024-06-25T22:32:28.488Z"
   },
   {
    "duration": 23,
    "start_time": "2024-06-25T22:32:29.527Z"
   },
   {
    "duration": 38,
    "start_time": "2024-06-25T22:32:29.553Z"
   },
   {
    "duration": 32,
    "start_time": "2024-06-25T22:32:29.596Z"
   },
   {
    "duration": 189,
    "start_time": "2024-06-25T22:32:29.631Z"
   },
   {
    "duration": 15,
    "start_time": "2024-06-25T22:32:29.823Z"
   },
   {
    "duration": 25,
    "start_time": "2024-06-25T22:32:29.842Z"
   },
   {
    "duration": 512,
    "start_time": "2024-06-25T22:32:29.891Z"
   },
   {
    "duration": 1663,
    "start_time": "2024-06-25T22:32:30.406Z"
   },
   {
    "duration": 1482,
    "start_time": "2024-06-25T22:32:32.072Z"
   },
   {
    "duration": 1053,
    "start_time": "2024-06-25T22:32:33.558Z"
   },
   {
    "duration": 0,
    "start_time": "2024-06-25T22:32:34.614Z"
   },
   {
    "duration": 0,
    "start_time": "2024-06-25T22:32:34.616Z"
   },
   {
    "duration": 0,
    "start_time": "2024-06-25T22:32:34.619Z"
   },
   {
    "duration": 351,
    "start_time": "2024-06-25T22:33:12.610Z"
   },
   {
    "duration": 354,
    "start_time": "2024-06-25T22:33:26.264Z"
   },
   {
    "duration": 1555,
    "start_time": "2024-06-25T23:08:21.265Z"
   },
   {
    "duration": 1040,
    "start_time": "2024-06-25T23:08:22.823Z"
   },
   {
    "duration": 44,
    "start_time": "2024-06-25T23:08:23.866Z"
   },
   {
    "duration": 9,
    "start_time": "2024-06-25T23:08:23.915Z"
   },
   {
    "duration": 18,
    "start_time": "2024-06-25T23:08:23.927Z"
   },
   {
    "duration": 71,
    "start_time": "2024-06-25T23:08:23.948Z"
   },
   {
    "duration": 169,
    "start_time": "2024-06-25T23:08:24.022Z"
   },
   {
    "duration": 19,
    "start_time": "2024-06-25T23:08:24.194Z"
   },
   {
    "duration": 26,
    "start_time": "2024-06-25T23:08:24.216Z"
   },
   {
    "duration": 554,
    "start_time": "2024-06-25T23:08:24.248Z"
   },
   {
    "duration": 1985,
    "start_time": "2024-06-25T23:08:24.812Z"
   },
   {
    "duration": 1553,
    "start_time": "2024-06-25T23:08:26.803Z"
   },
   {
    "duration": 385,
    "start_time": "2024-06-25T23:08:28.360Z"
   },
   {
    "duration": 14,
    "start_time": "2024-06-25T23:08:28.752Z"
   },
   {
    "duration": 10,
    "start_time": "2024-06-25T23:08:28.782Z"
   },
   {
    "duration": 0,
    "start_time": "2024-06-25T23:08:28.797Z"
   },
   {
    "duration": 0,
    "start_time": "2024-06-25T23:08:28.799Z"
   },
   {
    "duration": 11,
    "start_time": "2024-06-25T23:10:17.287Z"
   },
   {
    "duration": 520,
    "start_time": "2024-06-25T23:10:18.292Z"
   },
   {
    "duration": 415,
    "start_time": "2024-06-25T23:11:22.921Z"
   },
   {
    "duration": 8,
    "start_time": "2024-06-25T23:11:48.777Z"
   },
   {
    "duration": 1029,
    "start_time": "2024-06-25T23:11:50.586Z"
   },
   {
    "duration": 8,
    "start_time": "2024-06-25T23:13:00.560Z"
   },
   {
    "duration": 462,
    "start_time": "2024-06-25T23:13:02.963Z"
   },
   {
    "duration": 7,
    "start_time": "2024-06-25T23:17:47.653Z"
   },
   {
    "duration": 444,
    "start_time": "2024-06-25T23:17:49.799Z"
   },
   {
    "duration": 6,
    "start_time": "2024-06-25T23:18:56.452Z"
   },
   {
    "duration": 379,
    "start_time": "2024-06-25T23:18:57.865Z"
   },
   {
    "duration": 6,
    "start_time": "2024-06-25T23:19:21.083Z"
   },
   {
    "duration": 2853,
    "start_time": "2024-06-25T23:19:23.200Z"
   },
   {
    "duration": 6,
    "start_time": "2024-06-25T23:20:28.250Z"
   },
   {
    "duration": 1814,
    "start_time": "2024-06-25T23:20:45.158Z"
   },
   {
    "duration": 14,
    "start_time": "2024-06-25T23:24:27.123Z"
   },
   {
    "duration": 45,
    "start_time": "2024-06-25T23:24:32.920Z"
   },
   {
    "duration": 1674,
    "start_time": "2024-06-25T23:24:43.669Z"
   },
   {
    "duration": 2260,
    "start_time": "2024-06-25T23:26:06.143Z"
   },
   {
    "duration": 1780,
    "start_time": "2024-06-25T23:27:17.311Z"
   },
   {
    "duration": 1465,
    "start_time": "2024-06-25T23:27:30.127Z"
   },
   {
    "duration": 312,
    "start_time": "2024-06-25T23:27:32.677Z"
   },
   {
    "duration": 51,
    "start_time": "2024-06-25T23:27:55.347Z"
   },
   {
    "duration": 1535,
    "start_time": "2024-06-25T23:36:32.635Z"
   },
   {
    "duration": 1658,
    "start_time": "2024-06-25T23:37:47.175Z"
   },
   {
    "duration": 1127,
    "start_time": "2024-06-25T23:37:48.838Z"
   },
   {
    "duration": 39,
    "start_time": "2024-06-25T23:37:49.969Z"
   },
   {
    "duration": 13,
    "start_time": "2024-06-25T23:37:50.013Z"
   },
   {
    "duration": 17,
    "start_time": "2024-06-25T23:37:50.030Z"
   },
   {
    "duration": 71,
    "start_time": "2024-06-25T23:37:50.050Z"
   },
   {
    "duration": 197,
    "start_time": "2024-06-25T23:37:50.124Z"
   },
   {
    "duration": 18,
    "start_time": "2024-06-25T23:37:50.325Z"
   },
   {
    "duration": 52,
    "start_time": "2024-06-25T23:37:50.348Z"
   },
   {
    "duration": 546,
    "start_time": "2024-06-25T23:37:50.407Z"
   },
   {
    "duration": 1764,
    "start_time": "2024-06-25T23:37:50.956Z"
   },
   {
    "duration": 1583,
    "start_time": "2024-06-25T23:37:52.725Z"
   },
   {
    "duration": 368,
    "start_time": "2024-06-25T23:37:54.311Z"
   },
   {
    "duration": 7,
    "start_time": "2024-06-25T23:37:54.689Z"
   },
   {
    "duration": 11,
    "start_time": "2024-06-25T23:37:54.700Z"
   },
   {
    "duration": 1591,
    "start_time": "2024-06-25T23:37:54.716Z"
   },
   {
    "duration": 1810,
    "start_time": "2024-06-25T23:37:56.312Z"
   },
   {
    "duration": 10,
    "start_time": "2024-06-25T23:38:05.119Z"
   },
   {
    "duration": 1624,
    "start_time": "2024-06-25T23:38:09.231Z"
   },
   {
    "duration": 1112,
    "start_time": "2024-06-25T23:38:10.859Z"
   },
   {
    "duration": 25,
    "start_time": "2024-06-25T23:38:11.990Z"
   },
   {
    "duration": 12,
    "start_time": "2024-06-25T23:38:12.019Z"
   },
   {
    "duration": 58,
    "start_time": "2024-06-25T23:38:12.036Z"
   },
   {
    "duration": 34,
    "start_time": "2024-06-25T23:38:12.099Z"
   },
   {
    "duration": 210,
    "start_time": "2024-06-25T23:38:12.138Z"
   },
   {
    "duration": 19,
    "start_time": "2024-06-25T23:38:12.351Z"
   },
   {
    "duration": 45,
    "start_time": "2024-06-25T23:38:12.373Z"
   },
   {
    "duration": 575,
    "start_time": "2024-06-25T23:38:12.422Z"
   },
   {
    "duration": 1806,
    "start_time": "2024-06-25T23:38:13.000Z"
   },
   {
    "duration": 1542,
    "start_time": "2024-06-25T23:38:14.811Z"
   },
   {
    "duration": 386,
    "start_time": "2024-06-25T23:38:16.358Z"
   },
   {
    "duration": 9,
    "start_time": "2024-06-25T23:38:16.752Z"
   },
   {
    "duration": 28,
    "start_time": "2024-06-25T23:38:16.764Z"
   },
   {
    "duration": 1597,
    "start_time": "2024-06-25T23:38:16.795Z"
   },
   {
    "duration": 1742,
    "start_time": "2024-06-25T23:38:18.395Z"
   },
   {
    "duration": 15,
    "start_time": "2024-06-25T23:44:24.368Z"
   },
   {
    "duration": 16,
    "start_time": "2024-06-25T23:44:29.425Z"
   },
   {
    "duration": 17,
    "start_time": "2024-06-25T23:44:35.668Z"
   },
   {
    "duration": 15,
    "start_time": "2024-06-25T23:44:39.114Z"
   },
   {
    "duration": 1835,
    "start_time": "2024-06-25T23:46:58.611Z"
   },
   {
    "duration": 1143,
    "start_time": "2024-06-25T23:47:00.450Z"
   },
   {
    "duration": 29,
    "start_time": "2024-06-25T23:47:01.596Z"
   },
   {
    "duration": 12,
    "start_time": "2024-06-25T23:47:01.628Z"
   },
   {
    "duration": 58,
    "start_time": "2024-06-25T23:47:01.646Z"
   },
   {
    "duration": 35,
    "start_time": "2024-06-25T23:47:01.707Z"
   },
   {
    "duration": 189,
    "start_time": "2024-06-25T23:47:01.747Z"
   },
   {
    "duration": 21,
    "start_time": "2024-06-25T23:47:01.940Z"
   },
   {
    "duration": 47,
    "start_time": "2024-06-25T23:47:01.965Z"
   },
   {
    "duration": 578,
    "start_time": "2024-06-25T23:47:02.016Z"
   },
   {
    "duration": 1799,
    "start_time": "2024-06-25T23:47:02.598Z"
   },
   {
    "duration": 1610,
    "start_time": "2024-06-25T23:47:04.401Z"
   },
   {
    "duration": 370,
    "start_time": "2024-06-25T23:47:06.015Z"
   },
   {
    "duration": 15,
    "start_time": "2024-06-25T23:47:06.395Z"
   },
   {
    "duration": 13,
    "start_time": "2024-06-25T23:47:06.412Z"
   },
   {
    "duration": 1777,
    "start_time": "2024-06-25T23:47:06.429Z"
   },
   {
    "duration": 1825,
    "start_time": "2024-06-25T23:47:08.216Z"
   },
   {
    "duration": 15,
    "start_time": "2024-06-25T23:47:10.045Z"
   },
   {
    "duration": 1831,
    "start_time": "2024-06-25T23:50:52.560Z"
   },
   {
    "duration": 1604,
    "start_time": "2024-06-25T23:51:39.520Z"
   },
   {
    "duration": 1162,
    "start_time": "2024-06-25T23:51:41.128Z"
   },
   {
    "duration": 28,
    "start_time": "2024-06-25T23:51:42.294Z"
   },
   {
    "duration": 12,
    "start_time": "2024-06-25T23:51:42.326Z"
   },
   {
    "duration": 56,
    "start_time": "2024-06-25T23:51:42.342Z"
   },
   {
    "duration": 34,
    "start_time": "2024-06-25T23:51:42.401Z"
   },
   {
    "duration": 231,
    "start_time": "2024-06-25T23:51:42.439Z"
   },
   {
    "duration": 20,
    "start_time": "2024-06-25T23:51:42.675Z"
   },
   {
    "duration": 32,
    "start_time": "2024-06-25T23:51:42.704Z"
   },
   {
    "duration": 604,
    "start_time": "2024-06-25T23:51:42.739Z"
   },
   {
    "duration": 1774,
    "start_time": "2024-06-25T23:51:43.347Z"
   },
   {
    "duration": 1502,
    "start_time": "2024-06-25T23:51:45.125Z"
   },
   {
    "duration": 361,
    "start_time": "2024-06-25T23:51:46.631Z"
   },
   {
    "duration": 7,
    "start_time": "2024-06-25T23:51:46.998Z"
   },
   {
    "duration": 13,
    "start_time": "2024-06-25T23:51:47.007Z"
   },
   {
    "duration": 987,
    "start_time": "2024-06-25T23:51:47.022Z"
   },
   {
    "duration": 0,
    "start_time": "2024-06-25T23:51:48.013Z"
   },
   {
    "duration": 0,
    "start_time": "2024-06-25T23:51:48.015Z"
   },
   {
    "duration": 1828,
    "start_time": "2024-06-25T23:52:05.086Z"
   },
   {
    "duration": 1606,
    "start_time": "2024-06-25T23:52:09.296Z"
   },
   {
    "duration": 22,
    "start_time": "2024-06-25T23:52:24.139Z"
   },
   {
    "duration": 18,
    "start_time": "2024-06-25T23:52:38.756Z"
   },
   {
    "duration": 15,
    "start_time": "2024-06-25T23:52:40.360Z"
   },
   {
    "duration": 17,
    "start_time": "2024-06-25T23:52:41.925Z"
   },
   {
    "duration": 16,
    "start_time": "2024-06-25T23:52:43.402Z"
   },
   {
    "duration": 13,
    "start_time": "2024-06-25T23:52:46.071Z"
   },
   {
    "duration": 12,
    "start_time": "2024-06-25T23:54:27.125Z"
   },
   {
    "duration": 7,
    "start_time": "2024-06-25T23:55:14.859Z"
   },
   {
    "duration": 1565,
    "start_time": "2024-06-26T00:06:08.182Z"
   }
  ],
  "kernelspec": {
   "display_name": "DSPortfolio",
   "language": "python",
   "name": "python3"
  },
  "language_info": {
   "codemirror_mode": {
    "name": "ipython",
    "version": 3
   },
   "file_extension": ".py",
   "mimetype": "text/x-python",
   "name": "python",
   "nbconvert_exporter": "python",
   "pygments_lexer": "ipython3",
   "version": "3.11.11"
  },
  "toc": {
   "base_numbering": 1,
   "nav_menu": {},
   "number_sections": true,
   "sideBar": true,
   "skip_h1_title": true,
   "title_cell": "Table of Contents",
   "title_sidebar": "Contents",
   "toc_cell": false,
   "toc_position": {},
   "toc_section_display": true,
   "toc_window_display": false
  }
 },
 "nbformat": 4,
 "nbformat_minor": 2
}
